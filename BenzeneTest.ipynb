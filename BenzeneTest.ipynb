{
 "cells": [
  {
   "cell_type": "markdown",
   "metadata": {},
   "source": [
    "# Evaluation of Benzene DFT by GPAW\n",
    "This notebook compares HORTON fitting unconstrained and constrained, weighted by all-electron density and superposed single-atom electron dnesities for Benzene"
   ]
  },
  {
   "cell_type": "code",
   "execution_count": 1,
   "metadata": {},
   "outputs": [],
   "source": [
    "import glob\n",
    "import re"
   ]
  },
  {
   "cell_type": "code",
   "execution_count": 2,
   "metadata": {},
   "outputs": [],
   "source": [
    "from fitESPconstrained import *"
   ]
  },
  {
   "cell_type": "code",
   "execution_count": 3,
   "metadata": {},
   "outputs": [],
   "source": [
    "from ase.build import molecule\n",
    "from ase.visualize import view"
   ]
  },
  {
   "cell_type": "code",
   "execution_count": 104,
   "metadata": {},
   "outputs": [],
   "source": [
    "import matplotlib.pyplot as plt\n",
    "%matplotlib inline"
   ]
  },
  {
   "cell_type": "code",
   "execution_count": 4,
   "metadata": {},
   "outputs": [],
   "source": [
    "benzene = molecule('C6H6')"
   ]
  },
  {
   "cell_type": "code",
   "execution_count": 5,
   "metadata": {},
   "outputs": [
    {
     "name": "stdout",
     "output_type": "stream",
     "text": [
      "Atom('C', [0.0, 1.395248, 0.0], index=0)\n",
      "Atom('C', [1.2083200000000001, 0.69762400000000002, 0.0], index=1)\n",
      "Atom('C', [1.2083200000000001, -0.69762400000000002, 0.0], index=2)\n",
      "Atom('C', [0.0, -1.395248, 0.0], index=3)\n",
      "Atom('C', [-1.2083200000000001, -0.69762400000000002, 0.0], index=4)\n",
      "Atom('C', [-1.2083200000000001, 0.69762400000000002, 0.0], index=5)\n",
      "Atom('H', [0.0, 2.4823599999999999, 0.0], index=6)\n",
      "Atom('H', [2.1497869999999999, 1.2411799999999999, 0.0], index=7)\n",
      "Atom('H', [2.1497869999999999, -1.2411799999999999, 0.0], index=8)\n",
      "Atom('H', [0.0, -2.4823599999999999, 0.0], index=9)\n",
      "Atom('H', [-2.1497869999999999, -1.2411799999999999, 0.0], index=10)\n",
      "Atom('H', [-2.1497869999999999, 1.2411799999999999, 0.0], index=11)\n"
     ]
    }
   ],
   "source": [
    "for a in benzene:\n",
    "    print(a)"
   ]
  },
  {
   "cell_type": "code",
   "execution_count": 181,
   "metadata": {},
   "outputs": [
    {
     "data": {
      "application/vnd.jupyter.widget-view+json": {
       "model_id": "70512116e33948f8a63992a1a9999472",
       "version_major": 2,
       "version_minor": 0
      },
      "text/html": [
       "<p>Failed to display Jupyter Widget of type <code>HBox</code>.</p>\n",
       "<p>\n",
       "  If you're reading this message in Jupyter Notebook or JupyterLab, it may mean\n",
       "  that the widgets JavaScript is still loading. If this message persists, it\n",
       "  likely means that the widgets JavaScript library is either not installed or\n",
       "  not enabled. See the <a href=\"https://ipywidgets.readthedocs.io/en/stable/user_install.html\">Jupyter\n",
       "  Widgets Documentation</a> for setup instructions.\n",
       "</p>\n",
       "<p>\n",
       "  If you're reading this message in another notebook frontend (for example, a static\n",
       "  rendering on GitHub or <a href=\"https://nbviewer.jupyter.org/\">NBViewer</a>),\n",
       "  it may mean that your frontend doesn't currently support widgets.\n",
       "</p>\n"
      ],
      "text/plain": [
       "HBox(children=(NGLWidget(), VBox(children=(Dropdown(description='Show', options=('All', 'H', 'C'), value='All'), FloatSlider(value=0.8, description='Ball size', max=1.5, step=0.01)))))"
      ]
     },
     "metadata": {},
     "output_type": "display_data"
    }
   ],
   "source": [
    "view(benzene,viewer='ngl')"
   ]
  },
  {
   "cell_type": "code",
   "execution_count": 34,
   "metadata": {},
   "outputs": [],
   "source": [
    "from ase.io import read\n",
    "from gpaw import GPAW"
   ]
  },
  {
   "cell_type": "code",
   "execution_count": 35,
   "metadata": {},
   "outputs": [],
   "source": [
    "from ase.optimize.bfgslinesearch import BFGSLineSearch #Quasi Newton\n"
   ]
  },
  {
   "cell_type": "code",
   "execution_count": 36,
   "metadata": {},
   "outputs": [
    {
     "name": "stdout",
     "output_type": "stream",
     "text": [
      "\n",
      "  ___ ___ ___ _ _ _  \n",
      " |   |   |_  | | | | \n",
      " | | | | | . | | | | \n",
      " |__ |  _|___|_____|  1.3.1b1\n",
      " |___|_|             \n",
      "\n",
      "User:   fr_jh1130@login1.nemo.privat\n",
      "Date:   Tue May 22 13:46:38 2018\n",
      "Arch:   x86_64\n",
      "Pid:    163427\n",
      "Python: 3.6.3\n",
      "gpaw:   /work/ws/nemo/fr_lp1029-IMTEK_SIMULATION-0/local_modules/gpaw/1.3.0/lib/python3.6/site-packages/gpaw\n",
      "_gpaw:  /work/ws/nemo/fr_lp1029-IMTEK_SIMULATION-0/local_modules/gpaw/1.3.0/lib/python3.6/site-packages/\n",
      "       _gpaw.cpython-36m-x86_64-linux-gnu.so\n",
      "ase:    /work/ws/nemo/fr_lp1029-IMTEK_SIMULATION-0/local_modules/ase/3.15.0/lib/python3.6/site-packages/ase-3.15.0-py3.6.egg/ase (version 3.15.0)\n",
      "numpy:  /opt/bwhpc/common/devel/python/3.6.3.20171114/lib/python3.6/site-packages/numpy (version 1.13.3)\n",
      "scipy:  /opt/bwhpc/common/devel/python/3.6.3.20171114/lib/python3.6/site-packages/scipy (version 1.0.0)\n",
      "units:  Angstrom and eV\n",
      "cores:  1\n",
      "\n",
      "Input parameters:\n",
      "  convergence: {energy: 0.001}\n",
      "  h: 0.2\n",
      "  spinpol: True\n",
      "  xc: PBE\n",
      "\n"
     ]
    }
   ],
   "source": [
    "benzene.set_cell([15,15,15])\n",
    "benzene.set_pbc([0,0,0])\n",
    "benzene.center()\n",
    "calc  = GPAW(xc='PBE', h=0.2, charge=0,\n",
    "             spinpol=True, convergence={'energy': 0.001})\n"
   ]
  },
  {
   "cell_type": "code",
   "execution_count": 37,
   "metadata": {},
   "outputs": [],
   "source": [
    "benzene.set_calculator(calc)"
   ]
  },
  {
   "cell_type": "code",
   "execution_count": 38,
   "metadata": {},
   "outputs": [],
   "source": [
    "dyn = BFGSLineSearch(benzene, trajectory='benzene/benzene.traj',\n",
    "                     restart='benzene/bfgs_ls.pckl', logfile='benzene/BFGSLinSearch.log')"
   ]
  },
  {
   "cell_type": "code",
   "execution_count": 39,
   "metadata": {},
   "outputs": [
    {
     "data": {
      "text/plain": [
       "ase.optimize.bfgslinesearch.BFGSLineSearch"
      ]
     },
     "execution_count": 39,
     "metadata": {},
     "output_type": "execute_result"
    }
   ],
   "source": [
    "type(dyn)"
   ]
  },
  {
   "cell_type": "code",
   "execution_count": 61,
   "metadata": {},
   "outputs": [],
   "source": [
    "# dyn.run(fmax=0.05) # too intense, outsourced parallely"
   ]
  },
  {
   "cell_type": "markdown",
   "metadata": {},
   "source": [
    "DFT outsourced, see 'benzene/log.sh' and files within 'benzene/dft'"
   ]
  },
  {
   "cell_type": "markdown",
   "metadata": {},
   "source": [
    "# Fit"
   ]
  },
  {
   "cell_type": "markdown",
   "metadata": {},
   "source": [
    "Data prepared with\n",
    "```\n",
    "# with weights from all electron density\n",
    "./loop-esp-cost.sh --esp-infile-cube benzene/dft/benzene_vHtg.cube \\\n",
    "  --dens-infile-cube benzene/dft/benzene_rho.cube \\\n",
    "  --cost-outfile-hdf5 benzene/wdens/benzene.cost.lnrhoref \\\n",
    "  --weights-outfile-cube benzene/wdens/benzene.weights.lnrhoref \\\n",
    "  2>&1 | tee benzene/wdens/benzene.loop-esp-cost.log\n",
    "  \n",
    "# with weights from all electron density and inverted sign convention\n",
    "./loop-esp-cost.sh --esp-infile-cube benzene/dft/benzene_vHtg.cube \\\n",
    "  --dens-infile-cube benzene/dft/benzene_rho.cube \\\n",
    "  --cost-outfile-hdf5 benzene/wdens_neg/benzene.cost.lnrhoref \\\n",
    "  --weights-outfile-cube benzene/wdens_neg/benzene.weights.lnrhoref \\\n",
    "  --sign 2>&1 | tee benzene/wdens_neg/benzene.loop-esp-cost.log\n",
    "  \n",
    "# with weights from superposed single-atom electron densities\n",
    "./loop-esp-cost.sh --esp-infile-cube benzene/dft/benzene_vHtg.cube \\\n",
    "  --cost-outfile-hdf5 benzene/nowdens/benzene.cost.lnrhoref \\\n",
    "  --weights-outfile-cube benzene/nowdens/benzene.weights.lnrhoref \\\n",
    "  2>&1 | tee benzene/nowdens/benzene.loop-esp-cost.log\n",
    "  \n",
    "# with weights from superposed single-atom electron densities \n",
    "# and inverted sign convention\n",
    "./loop-esp-cost.sh --esp-infile-cube benzene/dft/benzene_vHtg.cube \\\n",
    "  --cost-outfile-hdf5 benzene/nowdens_neg/benzene.cost.lnrhoref \\\n",
    "  --weights-outfile-cube benzene/nowdens_neg/benzene.weights.lnrhoref \\\n",
    "  --sign 2>&1 | tee benzene/nowdens_neg/benzene.loop-esp-cost.log\n",
    "\n",
    "```"
   ]
  },
  {
   "cell_type": "markdown",
   "metadata": {},
   "source": [
    "Fits automized with\n",
    "```\n",
    "module purge \n",
    "module load gpaw\n",
    "\n",
    "# with weights from all electron density\n",
    "./loop-fitESPforBenzene.sh -i benzene/wdens/benzene.cost.lnrhoref \\\n",
    "  -o benzene/wdens/benzene.charges.lnrhoref \\\n",
    "  2>&1 | tee benzene/wdens/loop-fitESPforBenzene.log \n",
    "\n",
    "# with weights from all electron density and inverted sign convention\n",
    "./loop-fitESPforBenzene.sh -i benzene/wdens_neg/benzene.cost.lnrhoref \\\n",
    "  -o benzene/wdens_neg/benzene.charges.lnrhoref \\\n",
    "  2>&1 | tee benzene/wdens_neg/loop-fitESPforBenzene.log \n",
    "\n",
    "# with weights from superposed single-atom electron densities\n",
    "./loop-fitESPforBenzene.sh -i benzene/nowdens/benzene.cost.lnrhoref \\\n",
    "  -o benzene/nowdens/benzene.charges.lnrhoref \\\n",
    "  2>&1 | tee benzene/nowdens/loop-fitESPforBenzene.log \n",
    "\n",
    "# with weights from superposed single-atom electron densities \n",
    "# and inverted sign convention\n",
    "./loop-fitESPforBenzene.sh -i benzene/nowdens_neg/benzene.cost.lnrhoref \\\n",
    "  -o benzene/nowdens_neg/benzene.charges.lnrhoref \\\n",
    "  2>&1 | tee benzene/nowdens_neg/loop-fitESPforBenzene.log \n",
    "```"
   ]
  },
  {
   "cell_type": "markdown",
   "metadata": {},
   "source": [
    "## Supporting functions"
   ]
  },
  {
   "cell_type": "code",
   "execution_count": 55,
   "metadata": {},
   "outputs": [],
   "source": [
    "number_regexp = '[-+]?[0-9]+(?:\\.[0-9]+)?'\n",
    "convert = lambda text: float(text) if re.match('^' + number_regexp + '$', text) else text\n",
    "alphanum = lambda key: [ convert(c) for c in re.split('(' + number_regexp + ')', key) ]"
   ]
  },
  {
   "cell_type": "code",
   "execution_count": 182,
   "metadata": {},
   "outputs": [],
   "source": [
    "def costFunction(X,A,B,C,N):\n",
    "    return np.dot(np.dot(X[:N].T,A),X[:N]) - np.dot(B,X[:N])"
   ]
  },
  {
   "cell_type": "markdown",
   "metadata": {},
   "source": [
    "## Evaluate parameter sweeps"
   ]
  },
  {
   "cell_type": "code",
   "execution_count": 183,
   "metadata": {},
   "outputs": [],
   "source": [
    "set_names = ['Weights constructed by all-electron density',\n",
    "            'Weights constructed by all-electron density, inverse sign convention',\n",
    "            'Weights constructed by superposed single-atom electron densities',\n",
    "            'Weights constructed by superposed single-atom electron densities, inverse sign convention']\n",
    "directories = ['benzene/wdens/', 'benzene/wdens_neg/', \n",
    "               'benzene/nowdens/', 'benzene/nowdens_neg/']"
   ]
  },
  {
   "cell_type": "code",
   "execution_count": 93,
   "metadata": {},
   "outputs": [
    {
     "name": "stdout",
     "output_type": "stream",
     "text": [
      "#0: Folder benzene/wdens/, found 22 files:\n",
      "ln(rho_ref) = -18:  benzene/wdens/benzene.cost.lnrhoref.-18.h5\n",
      "ln(rho_ref) = -17:  benzene/wdens/benzene.cost.lnrhoref.-17.h5\n",
      "ln(rho_ref) = -16:  benzene/wdens/benzene.cost.lnrhoref.-16.h5\n",
      "ln(rho_ref) = -15:  benzene/wdens/benzene.cost.lnrhoref.-15.h5\n",
      "ln(rho_ref) = -14:  benzene/wdens/benzene.cost.lnrhoref.-14.h5\n",
      "ln(rho_ref) = -13:  benzene/wdens/benzene.cost.lnrhoref.-13.h5\n",
      "ln(rho_ref) = -12:  benzene/wdens/benzene.cost.lnrhoref.-12.h5\n",
      "ln(rho_ref) = -11:  benzene/wdens/benzene.cost.lnrhoref.-11.h5\n",
      "ln(rho_ref) = -10:  benzene/wdens/benzene.cost.lnrhoref.-10.h5\n",
      "ln(rho_ref) =  -9:  benzene/wdens/benzene.cost.lnrhoref.-9.h5\n",
      "ln(rho_ref) =  -8:  benzene/wdens/benzene.cost.lnrhoref.-8.h5\n",
      "ln(rho_ref) =  -7:  benzene/wdens/benzene.cost.lnrhoref.-7.h5\n",
      "ln(rho_ref) =  -6:  benzene/wdens/benzene.cost.lnrhoref.-6.h5\n",
      "ln(rho_ref) =  -5:  benzene/wdens/benzene.cost.lnrhoref.-5.h5\n",
      "ln(rho_ref) =  -4:  benzene/wdens/benzene.cost.lnrhoref.-4.h5\n",
      "ln(rho_ref) =  -3:  benzene/wdens/benzene.cost.lnrhoref.-3.h5\n",
      "ln(rho_ref) =  -2:  benzene/wdens/benzene.cost.lnrhoref.-2.h5\n",
      "ln(rho_ref) =  -1:  benzene/wdens/benzene.cost.lnrhoref.-1.h5\n",
      "ln(rho_ref) =  +0:  benzene/wdens/benzene.cost.lnrhoref.0.h5\n",
      "ln(rho_ref) =  +1:  benzene/wdens/benzene.cost.lnrhoref.1.h5\n",
      "ln(rho_ref) =  +2:  benzene/wdens/benzene.cost.lnrhoref.2.h5\n",
      "ln(rho_ref) =  +3:  benzene/wdens/benzene.cost.lnrhoref.3.h5\n",
      "#1: Folder benzene/wdens_neg/, found 22 files:\n",
      "ln(rho_ref) = -18:  benzene/wdens_neg/benzene.cost.lnrhoref.-18.h5\n",
      "ln(rho_ref) = -17:  benzene/wdens_neg/benzene.cost.lnrhoref.-17.h5\n",
      "ln(rho_ref) = -16:  benzene/wdens_neg/benzene.cost.lnrhoref.-16.h5\n",
      "ln(rho_ref) = -15:  benzene/wdens_neg/benzene.cost.lnrhoref.-15.h5\n",
      "ln(rho_ref) = -14:  benzene/wdens_neg/benzene.cost.lnrhoref.-14.h5\n",
      "ln(rho_ref) = -13:  benzene/wdens_neg/benzene.cost.lnrhoref.-13.h5\n",
      "ln(rho_ref) = -12:  benzene/wdens_neg/benzene.cost.lnrhoref.-12.h5\n",
      "ln(rho_ref) = -11:  benzene/wdens_neg/benzene.cost.lnrhoref.-11.h5\n",
      "ln(rho_ref) = -10:  benzene/wdens_neg/benzene.cost.lnrhoref.-10.h5\n",
      "ln(rho_ref) =  -9:  benzene/wdens_neg/benzene.cost.lnrhoref.-9.h5\n",
      "ln(rho_ref) =  -8:  benzene/wdens_neg/benzene.cost.lnrhoref.-8.h5\n",
      "ln(rho_ref) =  -7:  benzene/wdens_neg/benzene.cost.lnrhoref.-7.h5\n",
      "ln(rho_ref) =  -6:  benzene/wdens_neg/benzene.cost.lnrhoref.-6.h5\n",
      "ln(rho_ref) =  -5:  benzene/wdens_neg/benzene.cost.lnrhoref.-5.h5\n",
      "ln(rho_ref) =  -4:  benzene/wdens_neg/benzene.cost.lnrhoref.-4.h5\n",
      "ln(rho_ref) =  -3:  benzene/wdens_neg/benzene.cost.lnrhoref.-3.h5\n",
      "ln(rho_ref) =  -2:  benzene/wdens_neg/benzene.cost.lnrhoref.-2.h5\n",
      "ln(rho_ref) =  -1:  benzene/wdens_neg/benzene.cost.lnrhoref.-1.h5\n",
      "ln(rho_ref) =  +0:  benzene/wdens_neg/benzene.cost.lnrhoref.0.h5\n",
      "ln(rho_ref) =  +1:  benzene/wdens_neg/benzene.cost.lnrhoref.1.h5\n",
      "ln(rho_ref) =  +2:  benzene/wdens_neg/benzene.cost.lnrhoref.2.h5\n",
      "ln(rho_ref) =  +3:  benzene/wdens_neg/benzene.cost.lnrhoref.3.h5\n",
      "#2: Folder benzene/nowdens/, found 22 files:\n",
      "ln(rho_ref) = -18:  benzene/nowdens/benzene.cost.lnrhoref.-18.h5\n",
      "ln(rho_ref) = -17:  benzene/nowdens/benzene.cost.lnrhoref.-17.h5\n",
      "ln(rho_ref) = -16:  benzene/nowdens/benzene.cost.lnrhoref.-16.h5\n",
      "ln(rho_ref) = -15:  benzene/nowdens/benzene.cost.lnrhoref.-15.h5\n",
      "ln(rho_ref) = -14:  benzene/nowdens/benzene.cost.lnrhoref.-14.h5\n",
      "ln(rho_ref) = -13:  benzene/nowdens/benzene.cost.lnrhoref.-13.h5\n",
      "ln(rho_ref) = -12:  benzene/nowdens/benzene.cost.lnrhoref.-12.h5\n",
      "ln(rho_ref) = -11:  benzene/nowdens/benzene.cost.lnrhoref.-11.h5\n",
      "ln(rho_ref) = -10:  benzene/nowdens/benzene.cost.lnrhoref.-10.h5\n",
      "ln(rho_ref) =  -9:  benzene/nowdens/benzene.cost.lnrhoref.-9.h5\n",
      "ln(rho_ref) =  -8:  benzene/nowdens/benzene.cost.lnrhoref.-8.h5\n",
      "ln(rho_ref) =  -7:  benzene/nowdens/benzene.cost.lnrhoref.-7.h5\n",
      "ln(rho_ref) =  -6:  benzene/nowdens/benzene.cost.lnrhoref.-6.h5\n",
      "ln(rho_ref) =  -5:  benzene/nowdens/benzene.cost.lnrhoref.-5.h5\n",
      "ln(rho_ref) =  -4:  benzene/nowdens/benzene.cost.lnrhoref.-4.h5\n",
      "ln(rho_ref) =  -3:  benzene/nowdens/benzene.cost.lnrhoref.-3.h5\n",
      "ln(rho_ref) =  -2:  benzene/nowdens/benzene.cost.lnrhoref.-2.h5\n",
      "ln(rho_ref) =  -1:  benzene/nowdens/benzene.cost.lnrhoref.-1.h5\n",
      "ln(rho_ref) =  +0:  benzene/nowdens/benzene.cost.lnrhoref.0.h5\n",
      "ln(rho_ref) =  +1:  benzene/nowdens/benzene.cost.lnrhoref.1.h5\n",
      "ln(rho_ref) =  +2:  benzene/nowdens/benzene.cost.lnrhoref.2.h5\n",
      "ln(rho_ref) =  +3:  benzene/nowdens/benzene.cost.lnrhoref.3.h5\n",
      "#3: Folder benzene/nowdens_neg/, found 22 files:\n",
      "ln(rho_ref) = -18:  benzene/nowdens_neg/benzene.cost.lnrhoref.-18.h5\n",
      "ln(rho_ref) = -17:  benzene/nowdens_neg/benzene.cost.lnrhoref.-17.h5\n",
      "ln(rho_ref) = -16:  benzene/nowdens_neg/benzene.cost.lnrhoref.-16.h5\n",
      "ln(rho_ref) = -15:  benzene/nowdens_neg/benzene.cost.lnrhoref.-15.h5\n",
      "ln(rho_ref) = -14:  benzene/nowdens_neg/benzene.cost.lnrhoref.-14.h5\n",
      "ln(rho_ref) = -13:  benzene/nowdens_neg/benzene.cost.lnrhoref.-13.h5\n",
      "ln(rho_ref) = -12:  benzene/nowdens_neg/benzene.cost.lnrhoref.-12.h5\n",
      "ln(rho_ref) = -11:  benzene/nowdens_neg/benzene.cost.lnrhoref.-11.h5\n",
      "ln(rho_ref) = -10:  benzene/nowdens_neg/benzene.cost.lnrhoref.-10.h5\n",
      "ln(rho_ref) =  -9:  benzene/nowdens_neg/benzene.cost.lnrhoref.-9.h5\n",
      "ln(rho_ref) =  -8:  benzene/nowdens_neg/benzene.cost.lnrhoref.-8.h5\n",
      "ln(rho_ref) =  -7:  benzene/nowdens_neg/benzene.cost.lnrhoref.-7.h5\n",
      "ln(rho_ref) =  -6:  benzene/nowdens_neg/benzene.cost.lnrhoref.-6.h5\n",
      "ln(rho_ref) =  -5:  benzene/nowdens_neg/benzene.cost.lnrhoref.-5.h5\n",
      "ln(rho_ref) =  -4:  benzene/nowdens_neg/benzene.cost.lnrhoref.-4.h5\n",
      "ln(rho_ref) =  -3:  benzene/nowdens_neg/benzene.cost.lnrhoref.-3.h5\n",
      "ln(rho_ref) =  -2:  benzene/nowdens_neg/benzene.cost.lnrhoref.-2.h5\n",
      "ln(rho_ref) =  -1:  benzene/nowdens_neg/benzene.cost.lnrhoref.-1.h5\n",
      "ln(rho_ref) =  +0:  benzene/nowdens_neg/benzene.cost.lnrhoref.0.h5\n",
      "ln(rho_ref) =  +1:  benzene/nowdens_neg/benzene.cost.lnrhoref.1.h5\n",
      "ln(rho_ref) =  +2:  benzene/nowdens_neg/benzene.cost.lnrhoref.2.h5\n",
      "ln(rho_ref) =  +3:  benzene/nowdens_neg/benzene.cost.lnrhoref.3.h5\n"
     ]
    }
   ],
   "source": [
    "benzene_cost_fn_files = []\n",
    "all_X_constrained = []\n",
    "all_X_unconstrained = []\n",
    "all_cost_fn_val_unconstrained = []\n",
    "all_cost_fn_val_constrained = []\n",
    "all_parameters = []\n",
    "all_benzenes = []\n",
    "average_C_charge = []\n",
    "average_H_charge = []\n",
    "variance_C_charge = []\n",
    "variance_H_charge = []\n",
    "\n",
    "for i, d in enumerate(directories):\n",
    "    benzene_cost_fn_files.append( glob.glob(d + \"*.cost.*.h5\") )\n",
    "    benzene_cost_fn_files[i].sort(key=alphanum)\n",
    "    print(\"#{:d}: Folder {:s}, found {:d} files:\".format(i, d, len(benzene_cost_fn_files[i])))\n",
    "    # extract parameter from file name\n",
    "    parameter = []\n",
    "    for f in benzene_cost_fn_files[i]:\n",
    "        parts = alphanum(f)\n",
    "        for p in parts:\n",
    "            if isinstance(p, float):\n",
    "                parameter.append(p)\n",
    "                break\n",
    "    \n",
    "    all_parameters.append( parameter )\n",
    "    all_X_constrained.append([])\n",
    "    all_X_unconstrained.append([])\n",
    "    all_cost_fn_val_unconstrained.append([])\n",
    "    all_cost_fn_val_constrained.append([])\n",
    "    average_C_charge.append([])\n",
    "    average_H_charge.append([])  \n",
    "    variance_C_charge.append([])\n",
    "    variance_H_charge.append([])\n",
    "    all_benzenes.append([])\n",
    "    \n",
    "    #print(\"#{:d}: Folder {:s}, processing {:d} files:\".format(i,d,len(parameter)))\n",
    "    for l in zip(benzene_cost_fn_files[i],parameter):\n",
    "        print(\"ln(rho_ref) = {:>+3.0f}: \".format(l[1]),\n",
    "              \"{:s}\".format(l[0]))\n",
    "    \n",
    "\n",
    "    for f in benzene_cost_fn_files[i]:\n",
    "        A_horton, B_horton, C_horton, N_horton = \\\n",
    "                read_horton_cost_function(file_name = f)\n",
    "\n",
    "        X_unconstrained, A_unconstrained, B_unconstrained = \\\n",
    "                    unconstrainedMinimize(A_matrix = A_horton,\n",
    "                                b_vector = B_horton,\n",
    "                                C_scalar = C_horton,\n",
    "                                debug    = False)\n",
    "        D,q = constructTotalChargeConstraint(N=N_horton,charge=0)\n",
    "\n",
    "        X, A, B = constrainedMinimize(A_matrix = A_horton,\n",
    "                                b_vector = B_horton,\n",
    "                                C_scalar = C_horton,\n",
    "                                D_matrix = D, \n",
    "                                q_vector = q,\n",
    "                                debug    = False)\n",
    "\n",
    "        cost_fn_val_unconstrained = costFunction(X_unconstrained,\n",
    "                                                 A_horton,B_horton,\n",
    "                                                 C_horton,N_horton) \n",
    "        cost_fn_val_constrained = costFunction(X,A_horton,B_horton,\n",
    "                                               C_horton,N_horton)\n",
    "\n",
    "        all_X_unconstrained[i].append( X_unconstrained )\n",
    "        all_X_constrained[i].append( X )\n",
    "        all_cost_fn_val_unconstrained[i].append( cost_fn_val_unconstrained )\n",
    "        all_cost_fn_val_constrained[i].append( cost_fn_val_constrained )\n",
    "        \n",
    "        new_benzene = benzene.copy()\n",
    "        for j, a in enumerate(new_benzene):\n",
    "            a.charge = X[j]\n",
    "            \n",
    "        is_C = [ a.symbol == 'C' for a  in new_benzene ]\n",
    "        is_H = [ a.symbol == 'H' for a  in new_benzene ]\n",
    "\n",
    "        C_charges = [ a.charge for a in new_benzene[is_C] ]\n",
    "        H_charges = [ a.charge for a in new_benzene[is_H] ]\n",
    "        \n",
    "        average_C_charge[i].append( np.mean(C_charges) )\n",
    "        average_H_charge[i].append( np.mean(H_charges) )\n",
    "        variance_C_charge[i].append( np.var(C_charges) )\n",
    "        variance_H_charge[i].append( np.var(H_charges) )\n",
    "        \n",
    "        all_benzenes[i].append(new_benzene)\n"
   ]
  },
  {
   "cell_type": "code",
   "execution_count": 180,
   "metadata": {},
   "outputs": [
    {
     "data": {
      "text/plain": [
       "<matplotlib.legend.Legend at 0x7f9edc6bbeb8>"
      ]
     },
     "execution_count": 180,
     "metadata": {},
     "output_type": "execute_result"
    },
    {
     "data": {
      "image/png": "[encoded data removed]",
      "text/plain": [
       "<matplotlib.figure.Figure at 0x7f9edc9a61d0>"
      ]
     },
     "metadata": {},
     "output_type": "display_data"
    }
   ],
   "source": [
    "# plot results\n",
    "cols = 2\n",
    "rows = 2\n",
    "all_avCch_graphs = []\n",
    "fig, axs = plt.subplots(nrows=rows, ncols=cols, sharex=True, figsize=(cols*8,rows*5))\n",
    "for i in range(len(all_benzenes)):\n",
    "    \n",
    "    avCch_graph = axs[0,0].errorbar(all_parameters[i],average_C_charge[i],yerr=np.sqrt(variance_C_charge[i]))\n",
    "    axs[0,0].set_ylabel(r'$\\bar{q}_\\mathrm{C}$')\n",
    "    axs[0,0].set_xlabel(r'$\\ln(\\rho_{ref})$')\n",
    "        \n",
    "    axs[0,1].errorbar(all_parameters[i],average_H_charge[i],yerr=np.sqrt(variance_H_charge[i]))\n",
    "    axs[0,1].set_ylabel(r'$\\bar{q}_\\mathrm{H}$')\n",
    "    axs[0,1].set_xlabel(r'$\\ln(\\rho_{ref})$') \n",
    "    \n",
    "    axs[1,0].set_yscale(\"log\", nonposy='clip')\n",
    "    axs[1,0].errorbar(all_parameters[i],average_C_charge[i],yerr=np.sqrt(variance_C_charge[i]))\n",
    "    axs[1,0].set_ylabel(r'$\\bar{q}_\\mathrm{C}$')\n",
    "    axs[1,0].set_xlabel(r'$\\ln(\\rho_{ref})$')\n",
    "    \n",
    "    axs[1,1].set_yscale(\"log\", nonposy='clip')\n",
    "    axs[1,1].errorbar(all_parameters[i],average_H_charge[i],yerr=np.sqrt(variance_H_charge[i]))\n",
    "    axs[1,1].set_ylabel(r'$\\bar{q}_\\mathrm{H}$')\n",
    "    axs[1,1].set_xlabel(r'$\\ln(\\rho_{ref})$')\n",
    "    \n",
    "    \n",
    "\n",
    "        \n",
    "    all_avCch_graphs.append(avCch_graph)\n",
    "#plt.show()    \n",
    "\n",
    "lines = [a.lines[0] for a in all_avCch_graphs ]\n",
    "fig.legend( lines, set_names, loc='lower center', ncol=cols )"
   ]
  },
  {
   "cell_type": "code",
   "execution_count": 44,
   "metadata": {},
   "outputs": [],
   "source": [
    "smamp_esp_cube = 'sandbox/system100.vHtg_ua.cube'\n",
    "smamp_esp_cube_data, smamp_esp_cube_atoms = read_cube_data(smamp_esp_cube)"
   ]
  },
  {
   "cell_type": "code",
   "execution_count": 45,
   "metadata": {},
   "outputs": [],
   "source": [
    "benzene_esp_cube = 'benzene/benzene.esp.cube'\n",
    "benzene_esp_cube_data, benzene_esp_cube_atoms = read_cube_data(benzene_esp_cube)"
   ]
  },
  {
   "cell_type": "code",
   "execution_count": 46,
   "metadata": {},
   "outputs": [
    {
     "data": {
      "text/plain": [
       "(-11.739050000000001, 0.0)"
      ]
     },
     "execution_count": 46,
     "metadata": {},
     "output_type": "execute_result"
    }
   ],
   "source": [
    "smamp_esp_cube_data.min(),smamp_esp_cube_data.max()"
   ]
  },
  {
   "cell_type": "code",
   "execution_count": 47,
   "metadata": {},
   "outputs": [
    {
     "data": {
      "text/plain": [
       "(-10.171620000000001, 0.0)"
      ]
     },
     "execution_count": 47,
     "metadata": {},
     "output_type": "execute_result"
    }
   ],
   "source": [
    "benzene_esp_cube_data.min(),benzene_esp_cube_data.max()"
   ]
  },
  {
   "cell_type": "code",
   "execution_count": null,
   "metadata": {},
   "outputs": [],
   "source": [
    "# SMAMP"
   ]
  },
  {
   "cell_type": "code",
   "execution_count": 77,
   "metadata": {},
   "outputs": [],
   "source": [
    "infile_cost_h5 = \"sandbox/system100.cost_ua.h5\""
   ]
  },
  {
   "cell_type": "code",
   "execution_count": null,
   "metadata": {},
   "outputs": [],
   "source": [
    "A_horton, B_horton, C_horton, N_horton = \\\n",
    "        read_horton_cost_function(file_name = infile_cost_h5)"
   ]
  },
  {
   "cell_type": "markdown",
   "metadata": {},
   "source": [
    "# Weights\n",
    "TO BE EXTENDED"
   ]
  },
  {
   "cell_type": "code",
   "execution_count": 103,
   "metadata": {},
   "outputs": [],
   "source": [
    "benzene_weights_cube = 'benzene/benzene.weights.lnrhoref.-9.cube'"
   ]
  },
  {
   "cell_type": "code",
   "execution_count": 104,
   "metadata": {},
   "outputs": [],
   "source": [
    "benzene_weights_cube_data, benzene_weights_cube_atoms = read_cube_data(benzene_weights_cube)"
   ]
  },
  {
   "cell_type": "code",
   "execution_count": 109,
   "metadata": {},
   "outputs": [
    {
     "data": {
      "text/plain": [
       "185277.72807677457"
      ]
     },
     "execution_count": 109,
     "metadata": {},
     "output_type": "execute_result"
    }
   ],
   "source": [
    "benzene_weights_cube_data.sum()"
   ]
  },
  {
   "cell_type": "code",
   "execution_count": 159,
   "metadata": {},
   "outputs": [],
   "source": [
    "benzene_wdens_weight_files = glob.glob(\"./benzene/wdens/*.weights.*.cube\")"
   ]
  },
  {
   "cell_type": "code",
   "execution_count": 160,
   "metadata": {},
   "outputs": [
    {
     "name": "stdout",
     "output_type": "stream",
     "text": [
      "['./benzene/wdens/benzene.weights.lnrhoref.', -13.0, '.cube']\n",
      "['./benzene/wdens/benzene.weights.lnrhoref.', -6.0, '.cube']\n",
      "['./benzene/wdens/benzene.weights.lnrhoref.', -1.0, '.cube']\n",
      "['./benzene/wdens/benzene.weights.lnrhoref.', -15.0, '.cube']\n",
      "['./benzene/wdens/benzene.weights.lnrhoref.', -14.0, '.cube']\n",
      "['./benzene/wdens/benzene.weights.lnrhoref.', 0.0, '.cube']\n",
      "['./benzene/wdens/benzene.weights.lnrhoref.', -2.0, '.cube']\n",
      "['./benzene/wdens/benzene.weights.lnrhoref.', -5.0, '.cube']\n",
      "['./benzene/wdens/benzene.weights.lnrhoref.', -9.0, '.cube']\n",
      "['./benzene/wdens/benzene.weights.lnrhoref.', -17.0, '.cube']\n",
      "['./benzene/wdens/benzene.weights.lnrhoref.', 2.0, '.cube']\n",
      "['./benzene/wdens/benzene.weights.lnrhoref.', -10.0, '.cube']\n",
      "['./benzene/wdens/benzene.weights.lnrhoref.', 1.0, '.cube']\n",
      "['./benzene/wdens/benzene.weights.lnrhoref.', -8.0, '.cube']\n",
      "['./benzene/wdens/benzene.weights.lnrhoref.', -11.0, '.cube']\n",
      "['./benzene/wdens/benzene.weights.lnrhoref.', -7.0, '.cube']\n",
      "['./benzene/wdens/benzene.weights.lnrhoref.', -4.0, '.cube']\n",
      "['./benzene/wdens/benzene.weights.lnrhoref.', -18.0, '.cube']\n",
      "['./benzene/wdens/benzene.weights.lnrhoref.', 3.0, '.cube']\n",
      "['./benzene/wdens/benzene.weights.lnrhoref.', -3.0, '.cube']\n",
      "['./benzene/wdens/benzene.weights.lnrhoref.', -12.0, '.cube']\n",
      "['./benzene/wdens/benzene.weights.lnrhoref.', -16.0, '.cube']\n"
     ]
    }
   ],
   "source": [
    "for f in benzene_wdens_weight_files:\n",
    "    print(alphanum(f))"
   ]
  },
  {
   "cell_type": "code",
   "execution_count": 162,
   "metadata": {},
   "outputs": [],
   "source": [
    "benzene_wdens_weight_files.sort(key=alphanum)"
   ]
  },
  {
   "cell_type": "code",
   "execution_count": 163,
   "metadata": {},
   "outputs": [
    {
     "data": {
      "text/plain": [
       "['./benzene/wdens/benzene.weights.lnrhoref.-18.cube',\n",
       " './benzene/wdens/benzene.weights.lnrhoref.-17.cube',\n",
       " './benzene/wdens/benzene.weights.lnrhoref.-16.cube',\n",
       " './benzene/wdens/benzene.weights.lnrhoref.-15.cube',\n",
       " './benzene/wdens/benzene.weights.lnrhoref.-14.cube',\n",
       " './benzene/wdens/benzene.weights.lnrhoref.-13.cube',\n",
       " './benzene/wdens/benzene.weights.lnrhoref.-12.cube',\n",
       " './benzene/wdens/benzene.weights.lnrhoref.-11.cube',\n",
       " './benzene/wdens/benzene.weights.lnrhoref.-10.cube',\n",
       " './benzene/wdens/benzene.weights.lnrhoref.-9.cube',\n",
       " './benzene/wdens/benzene.weights.lnrhoref.-8.cube',\n",
       " './benzene/wdens/benzene.weights.lnrhoref.-7.cube',\n",
       " './benzene/wdens/benzene.weights.lnrhoref.-6.cube',\n",
       " './benzene/wdens/benzene.weights.lnrhoref.-5.cube',\n",
       " './benzene/wdens/benzene.weights.lnrhoref.-4.cube',\n",
       " './benzene/wdens/benzene.weights.lnrhoref.-3.cube',\n",
       " './benzene/wdens/benzene.weights.lnrhoref.-2.cube',\n",
       " './benzene/wdens/benzene.weights.lnrhoref.-1.cube',\n",
       " './benzene/wdens/benzene.weights.lnrhoref.0.cube',\n",
       " './benzene/wdens/benzene.weights.lnrhoref.1.cube',\n",
       " './benzene/wdens/benzene.weights.lnrhoref.2.cube',\n",
       " './benzene/wdens/benzene.weights.lnrhoref.3.cube']"
      ]
     },
     "execution_count": 163,
     "metadata": {},
     "output_type": "execute_result"
    }
   ],
   "source": [
    "benzene_wdens_weight_files"
   ]
  },
  {
   "cell_type": "code",
   "execution_count": 174,
   "metadata": {},
   "outputs": [],
   "source": [
    "parameter = []\n",
    "for f in benzene_wdens_weight_files:\n",
    "    parts = alphanum(f)\n",
    "    for p in parts:\n",
    "        if isinstance(p, float):\n",
    "            parameter.append(p)"
   ]
  },
  {
   "cell_type": "code",
   "execution_count": 175,
   "metadata": {},
   "outputs": [
    {
     "data": {
      "text/plain": [
       "[-18.0,\n",
       " -17.0,\n",
       " -16.0,\n",
       " -15.0,\n",
       " -14.0,\n",
       " -13.0,\n",
       " -12.0,\n",
       " -11.0,\n",
       " -10.0,\n",
       " -9.0,\n",
       " -8.0,\n",
       " -7.0,\n",
       " -6.0,\n",
       " -5.0,\n",
       " -4.0,\n",
       " -3.0,\n",
       " -2.0,\n",
       " -1.0,\n",
       " 0.0,\n",
       " 1.0,\n",
       " 2.0,\n",
       " 3.0]"
      ]
     },
     "execution_count": 175,
     "metadata": {},
     "output_type": "execute_result"
    }
   ],
   "source": [
    "parameter"
   ]
  },
  {
   "cell_type": "code",
   "execution_count": 178,
   "metadata": {},
   "outputs": [],
   "source": [
    "benzene_weights_cube_data = []\n",
    "benzene_weights_cube_atoms = []"
   ]
  },
  {
   "cell_type": "code",
   "execution_count": 179,
   "metadata": {},
   "outputs": [],
   "source": [
    "for file in benzene_wdens_weight_files: \n",
    "    tmp_data, tmp_atoms = read_cube_data(file)\n",
    "    benzene_weights_cube_data.append(tmp_data)\n",
    "    benzene_weights_cube_atoms.append(tmp_atoms)"
   ]
  },
  {
   "cell_type": "code",
   "execution_count": null,
   "metadata": {},
   "outputs": [],
   "source": [
    "for be"
   ]
  },
  {
   "cell_type": "code",
   "execution_count": 180,
   "metadata": {},
   "outputs": [],
   "source": [
    "benzene_nowdens_weight_files = glob.glob(\"./benzene/nowdens/*.weights.*.cube\")"
   ]
  },
  {
   "cell_type": "code",
   "execution_count": 181,
   "metadata": {},
   "outputs": [],
   "source": [
    "benzene_nowdens_weight_files.sort(key=alphanum)"
   ]
  },
  {
   "cell_type": "code",
   "execution_count": 182,
   "metadata": {},
   "outputs": [],
   "source": [
    "nowdens_parameter = []\n",
    "for f in benzene_nowdens_weight_files:\n",
    "    parts = alphanum(f)\n",
    "    for p in parts:\n",
    "        if isinstance(p, float):\n",
    "            nowdens_parameter.append(p)"
   ]
  },
  {
   "cell_type": "code",
   "execution_count": 183,
   "metadata": {},
   "outputs": [],
   "source": [
    "benzene_nowdens_weights_cube_data = []\n",
    "benzene_nowdens_weights_cube_atoms = []"
   ]
  },
  {
   "cell_type": "code",
   "execution_count": 184,
   "metadata": {},
   "outputs": [],
   "source": [
    "for file in benzene_nowdens_weight_files: \n",
    "    tmp_data, tmp_atoms = read_cube_data(file)\n",
    "    benzene_nowdens_weights_cube_data.append(tmp_data)\n",
    "    benzene_nowdens_weights_cube_atoms.append(tmp_atoms)"
   ]
  },
  {
   "cell_type": "code",
   "execution_count": 186,
   "metadata": {},
   "outputs": [
    {
     "data": {
      "text/plain": [
       "22"
      ]
     },
     "execution_count": 186,
     "metadata": {},
     "output_type": "execute_result"
    }
   ],
   "source": [
    "len(benzene_nowdens_weights_cube_data)"
   ]
  },
  {
   "cell_type": "code",
   "execution_count": 187,
   "metadata": {},
   "outputs": [
    {
     "data": {
      "text/plain": [
       "22"
      ]
     },
     "execution_count": 187,
     "metadata": {},
     "output_type": "execute_result"
    }
   ],
   "source": [
    "len(benzene_weights_cube_atoms)"
   ]
  },
  {
   "cell_type": "code",
   "execution_count": 201,
   "metadata": {},
   "outputs": [
    {
     "name": "stdout",
     "output_type": "stream",
     "text": [
      "ln(rho_ref) = -18:  nowdens min(w) = 0.0000e+00,  max(w) = 1.0000e+00,  sum(w) = 8.2568e+05\n",
      "                      wdens min(w) = 0.0000e+00,  max(w) = 1.0000e+00,  sum(w) = 8.4294e+04\n",
      "ln(rho_ref) = -17:  nowdens min(w) = 0.0000e+00,  max(w) = 1.0000e+00,  sum(w) = 8.0048e+05\n",
      "                      wdens min(w) = 0.0000e+00,  max(w) = 1.0000e+00,  sum(w) = 7.9012e+04\n",
      "ln(rho_ref) = -16:  nowdens min(w) = 0.0000e+00,  max(w) = 1.0000e+00,  sum(w) = 7.7514e+05\n",
      "                      wdens min(w) = 0.0000e+00,  max(w) = 1.0000e+00,  sum(w) = 7.3888e+04\n",
      "ln(rho_ref) = -15:  nowdens min(w) = 0.0000e+00,  max(w) = 1.0000e+00,  sum(w) = 7.4906e+05\n",
      "                      wdens min(w) = 0.0000e+00,  max(w) = 1.0000e+00,  sum(w) = 6.8925e+04\n",
      "ln(rho_ref) = -14:  nowdens min(w) = 0.0000e+00,  max(w) = 1.0000e+00,  sum(w) = 7.2523e+05\n",
      "                      wdens min(w) = 0.0000e+00,  max(w) = 1.0000e+00,  sum(w) = 6.4126e+04\n",
      "ln(rho_ref) = -13:  nowdens min(w) = 0.0000e+00,  max(w) = 1.0000e+00,  sum(w) = 7.0940e+05\n",
      "                      wdens min(w) = 0.0000e+00,  max(w) = 1.0000e+00,  sum(w) = 5.9494e+04\n",
      "ln(rho_ref) = -12:  nowdens min(w) = 0.0000e+00,  max(w) = 1.0000e+00,  sum(w) = 6.9260e+05\n",
      "                      wdens min(w) = 0.0000e+00,  max(w) = 1.0000e+00,  sum(w) = 5.5034e+04\n",
      "ln(rho_ref) = -11:  nowdens min(w) = 0.0000e+00,  max(w) = 1.0000e+00,  sum(w) = 5.9317e+05\n",
      "                      wdens min(w) = 0.0000e+00,  max(w) = 1.0000e+00,  sum(w) = 5.0751e+04\n",
      "ln(rho_ref) = -10:  nowdens min(w) = 0.0000e+00,  max(w) = 1.0000e+00,  sum(w) = 3.7032e+05\n",
      "                      wdens min(w) = 0.0000e+00,  max(w) = 1.0000e+00,  sum(w) = 4.6648e+04\n",
      "ln(rho_ref) =  -9:  nowdens min(w) = 0.0000e+00,  max(w) = 1.0000e+00,  sum(w) = 1.8528e+05\n",
      "                      wdens min(w) = 0.0000e+00,  max(w) = 1.0000e+00,  sum(w) = 4.2721e+04\n",
      "ln(rho_ref) =  -8:  nowdens min(w) = 0.0000e+00,  max(w) = 1.0000e+00,  sum(w) = 1.1219e+05\n",
      "                      wdens min(w) = 0.0000e+00,  max(w) = 1.0000e+00,  sum(w) = 3.8957e+04\n",
      "ln(rho_ref) =  -7:  nowdens min(w) = 0.0000e+00,  max(w) = 1.0000e+00,  sum(w) = 8.5214e+04\n",
      "                      wdens min(w) = 0.0000e+00,  max(w) = 1.0000e+00,  sum(w) = 3.5323e+04\n",
      "ln(rho_ref) =  -6:  nowdens min(w) = 0.0000e+00,  max(w) = 1.0000e+00,  sum(w) = 6.8299e+04\n",
      "                      wdens min(w) = 0.0000e+00,  max(w) = 1.0000e+00,  sum(w) = 3.1803e+04\n",
      "ln(rho_ref) =  -5:  nowdens min(w) = 0.0000e+00,  max(w) = 1.0000e+00,  sum(w) = 5.5027e+04\n",
      "                      wdens min(w) = 0.0000e+00,  max(w) = 1.0000e+00,  sum(w) = 2.8501e+04\n",
      "ln(rho_ref) =  -4:  nowdens min(w) = 0.0000e+00,  max(w) = 1.0000e+00,  sum(w) = 4.4536e+04\n",
      "                      wdens min(w) = 0.0000e+00,  max(w) = 1.0000e+00,  sum(w) = 2.5661e+04\n",
      "ln(rho_ref) =  -3:  nowdens min(w) = 0.0000e+00,  max(w) = 1.0000e+00,  sum(w) = 3.5762e+04\n",
      "                      wdens min(w) = 0.0000e+00,  max(w) = 1.0000e+00,  sum(w) = 2.2890e+04\n",
      "ln(rho_ref) =  -2:  nowdens min(w) = 0.0000e+00,  max(w) = 1.0000e+00,  sum(w) = 2.4534e+04\n",
      "                      wdens min(w) = 0.0000e+00,  max(w) = 1.0000e+00,  sum(w) = 1.7953e+04\n",
      "ln(rho_ref) =  -1:  nowdens min(w) = 0.0000e+00,  max(w) = 1.0000e+00,  sum(w) = 9.8345e+03\n",
      "                      wdens min(w) = 0.0000e+00,  max(w) = 1.0000e+00,  sum(w) = 8.7775e+03\n",
      "ln(rho_ref) =  +0:  nowdens min(w) = 0.0000e+00,  max(w) = 9.9999e-01,  sum(w) = 1.8033e+03\n",
      "                      wdens min(w) = 0.0000e+00,  max(w) = 9.9989e-01,  sum(w) = 1.9783e+03\n",
      "ln(rho_ref) =  +1:  nowdens min(w) = 0.0000e+00,  max(w) = 9.9943e-01,  sum(w) = 3.0999e+02\n",
      "                      wdens min(w) = 0.0000e+00,  max(w) = 1.0000e+00,  sum(w) = 3.4866e+02\n",
      "ln(rho_ref) =  +2:  nowdens min(w) = 0.0000e+00,  max(w) = 9.9763e-01,  sum(w) = 1.3304e+02\n",
      "                      wdens min(w) = 0.0000e+00,  max(w) = 9.9834e-01,  sum(w) = 1.3764e+02\n",
      "ln(rho_ref) =  +3:  nowdens min(w) = 0.0000e+00,  max(w) = 9.9906e-01,  sum(w) = 5.4197e+01\n",
      "                      wdens min(w) = 0.0000e+00,  max(w) = 9.9870e-01,  sum(w) = 5.6144e+01\n"
     ]
    }
   ],
   "source": [
    "for i in range(0,len(benzene_nowdens_weights_cube_atoms)):\n",
    "    print(\"ln(rho_ref) = {:>+3.0f}: \".format(parameter[i]),\n",
    "          \"nowdens min(w) = {:>8.4e}, \".format(\n",
    "             benzene_nowdens_weights_cube_data[i].min() ),\n",
    "          \"max(w) = {:>8.4e}, \".format(\n",
    "             benzene_nowdens_weights_cube_data[i].max() ),\n",
    "          \"sum(w) = {:>8.4e}\".format(\n",
    "         benzene_nowdens_weights_cube_data[i].sum() ) )\n",
    "    print(\"{:>21s} wdens min(w) = {:>8.4e}, \".format(\"\",\n",
    "             benzene_weights_cube_data[i].min() ),\n",
    "          \"max(w) = {:>8.4e}, \".format(\n",
    "             benzene_weights_cube_data[i].max() ),\n",
    "          \"sum(w) = {:>8.4e}\".format(\n",
    "         benzene_weights_cube_data[i].sum() ) )"
   ]
  },
  {
   "cell_type": "code",
   "execution_count": 205,
   "metadata": {},
   "outputs": [
    {
     "data": {
      "text/plain": [
       "-9.0"
      ]
     },
     "execution_count": 205,
     "metadata": {},
     "output_type": "execute_result"
    }
   ],
   "source": [
    "parameter[9]"
   ]
  },
  {
   "cell_type": "code",
   "execution_count": 206,
   "metadata": {},
   "outputs": [
    {
     "data": {
      "text/plain": [
       "array([[ 25.00005443,   0.        ,   0.        ],\n",
       "       [  0.        ,  25.00005443,   0.        ],\n",
       "       [  0.        ,   0.        ,  25.00005443]])"
      ]
     },
     "execution_count": 206,
     "metadata": {},
     "output_type": "execute_result"
    }
   ],
   "source": [
    "benzene_nowdens_weights_cube_atoms[9].cell"
   ]
  },
  {
   "cell_type": "code",
   "execution_count": 223,
   "metadata": {},
   "outputs": [
    {
     "ename": "IndexError",
     "evalue": "list index out of range",
     "output_type": "error",
     "traceback": [
      "\u001b[0;31m---------------------------------------------------------------------------\u001b[0m",
      "\u001b[0;31mIndexError\u001b[0m                                Traceback (most recent call last)",
      "\u001b[0;32m<ipython-input-223-d560540d71cd>\u001b[0m in \u001b[0;36m<module>\u001b[0;34m()\u001b[0m\n\u001b[0;32m----> 1\u001b[0;31m \u001b[0mplotSection2D\u001b[0m\u001b[0;34m(\u001b[0m\u001b[0mbenzene_nowdens_weights_cube_data\u001b[0m\u001b[0;34m[\u001b[0m\u001b[0;36m9\u001b[0m\u001b[0;34m]\u001b[0m\u001b[0;34m,\u001b[0m\u001b[0mbenzene_nowdens_weights_cube_atoms\u001b[0m\u001b[0;34m[\u001b[0m\u001b[0;36m9\u001b[0m\u001b[0;34m]\u001b[0m\u001b[0;34m,\u001b[0m \u001b[0mposition\u001b[0m\u001b[0;34m=\u001b[0m\u001b[0;36m10.0\u001b[0m\u001b[0;34m)\u001b[0m\u001b[0;34m\u001b[0m\u001b[0m\n\u001b[0m",
      "\u001b[0;32m<ipython-input-221-7c6425d5e388>\u001b[0m in \u001b[0;36mplotSection2D\u001b[0;34m(cube_data, cube_atoms, position, axis, ax)\u001b[0m\n\u001b[1;32m      9\u001b[0m \u001b[0;34m\u001b[0m\u001b[0m\n\u001b[1;32m     10\u001b[0m     \u001b[0;32mif\u001b[0m \u001b[0maxis\u001b[0m\u001b[0;34m==\u001b[0m\u001b[0;36m0\u001b[0m \u001b[0;32mor\u001b[0m \u001b[0maxis\u001b[0m\u001b[0;34m==\u001b[0m\u001b[0;34m\"x\"\u001b[0m\u001b[0;34m:\u001b[0m\u001b[0;34m\u001b[0m\u001b[0m\n\u001b[0;32m---> 11\u001b[0;31m         \u001b[0mtmp_ax\u001b[0m \u001b[0;34m=\u001b[0m \u001b[0mcube2xyz\u001b[0m\u001b[0;34m(\u001b[0m\u001b[0mcube_data\u001b[0m\u001b[0;34m,\u001b[0m\u001b[0mcube_atoms\u001b[0m\u001b[0;34m,\u001b[0m \u001b[0mx_coord\u001b[0m\u001b[0;34m=\u001b[0m\u001b[0mposition\u001b[0m\u001b[0;34m,\u001b[0m \u001b[0mmpl\u001b[0m\u001b[0;34m=\u001b[0m\u001b[0;32mTrue\u001b[0m\u001b[0;34m,\u001b[0m \u001b[0moutput\u001b[0m\u001b[0;34m=\u001b[0m\u001b[0;32mFalse\u001b[0m\u001b[0;34m,\u001b[0m \u001b[0mshow_plot\u001b[0m\u001b[0;34m=\u001b[0m\u001b[0;32mFalse\u001b[0m\u001b[0;34m,\u001b[0m \u001b[0max\u001b[0m\u001b[0;34m=\u001b[0m\u001b[0max\u001b[0m\u001b[0;34m)\u001b[0m\u001b[0;34m\u001b[0m\u001b[0m\n\u001b[0m\u001b[1;32m     12\u001b[0m     \u001b[0;32melif\u001b[0m \u001b[0maxis\u001b[0m\u001b[0;34m==\u001b[0m\u001b[0;36m1\u001b[0m \u001b[0;32mor\u001b[0m \u001b[0maxis\u001b[0m\u001b[0;34m==\u001b[0m\u001b[0;34m\"y\"\u001b[0m\u001b[0;34m:\u001b[0m\u001b[0;34m\u001b[0m\u001b[0m\n\u001b[1;32m     13\u001b[0m         \u001b[0mtmp_ax\u001b[0m \u001b[0;34m=\u001b[0m \u001b[0mcube2xyz\u001b[0m\u001b[0;34m(\u001b[0m\u001b[0mcube_data\u001b[0m\u001b[0;34m,\u001b[0m\u001b[0mcube_atoms\u001b[0m\u001b[0;34m,\u001b[0m \u001b[0my_coord\u001b[0m\u001b[0;34m=\u001b[0m\u001b[0mposition\u001b[0m\u001b[0;34m,\u001b[0m \u001b[0mmpl\u001b[0m\u001b[0;34m=\u001b[0m\u001b[0;32mTrue\u001b[0m\u001b[0;34m,\u001b[0m \u001b[0moutput\u001b[0m\u001b[0;34m=\u001b[0m\u001b[0;32mFalse\u001b[0m\u001b[0;34m,\u001b[0m \u001b[0mshow_plot\u001b[0m\u001b[0;34m=\u001b[0m\u001b[0;32mFalse\u001b[0m\u001b[0;34m,\u001b[0m \u001b[0max\u001b[0m\u001b[0;34m=\u001b[0m\u001b[0max\u001b[0m\u001b[0;34m)\u001b[0m\u001b[0;34m\u001b[0m\u001b[0m\n",
      "\u001b[0;32m<ipython-input-220-e9b5ca6e8ae6>\u001b[0m in \u001b[0;36mcube2xyz\u001b[0;34m(cube_data, cube_atoms, outfile_dat, print_range, x_coord, y_coord, z_coord, mpl, aa, output, p_label, show_plot, ax)\u001b[0m\n\u001b[1;32m    160\u001b[0m             \u001b[0;31m#    zip(*data)[axe_labels.index(var_axe2)])\u001b[0m\u001b[0;34m\u001b[0m\u001b[0;34m\u001b[0m\u001b[0m\n\u001b[1;32m    161\u001b[0m \u001b[0;34m\u001b[0m\u001b[0m\n\u001b[0;32m--> 162\u001b[0;31m             \u001b[0mX\u001b[0m\u001b[0;34m,\u001b[0m\u001b[0mY\u001b[0m\u001b[0;34m=\u001b[0m\u001b[0mlist\u001b[0m\u001b[0;34m(\u001b[0m\u001b[0mzip\u001b[0m\u001b[0;34m(\u001b[0m\u001b[0;34m*\u001b[0m\u001b[0mdata\u001b[0m\u001b[0;34m)\u001b[0m\u001b[0;34m)\u001b[0m\u001b[0;34m[\u001b[0m\u001b[0maxe_labels\u001b[0m\u001b[0;34m.\u001b[0m\u001b[0mindex\u001b[0m\u001b[0;34m(\u001b[0m\u001b[0mvar_axe1\u001b[0m\u001b[0;34m)\u001b[0m\u001b[0;34m]\u001b[0m\u001b[0;34m,\u001b[0m                \u001b[0mlist\u001b[0m\u001b[0;34m(\u001b[0m\u001b[0mzip\u001b[0m\u001b[0;34m(\u001b[0m\u001b[0;34m*\u001b[0m\u001b[0mdata\u001b[0m\u001b[0;34m)\u001b[0m\u001b[0;34m)\u001b[0m\u001b[0;34m[\u001b[0m\u001b[0maxe_labels\u001b[0m\u001b[0;34m.\u001b[0m\u001b[0mindex\u001b[0m\u001b[0;34m(\u001b[0m\u001b[0mvar_axe2\u001b[0m\u001b[0;34m)\u001b[0m\u001b[0;34m]\u001b[0m\u001b[0;34m\u001b[0m\u001b[0m\n\u001b[0m\u001b[1;32m    163\u001b[0m             \u001b[0mZ\u001b[0m \u001b[0;34m=\u001b[0m \u001b[0mlist\u001b[0m\u001b[0;34m(\u001b[0m\u001b[0mzip\u001b[0m\u001b[0;34m(\u001b[0m\u001b[0;34m*\u001b[0m\u001b[0mdata\u001b[0m\u001b[0;34m)\u001b[0m\u001b[0;34m)\u001b[0m\u001b[0;34m[\u001b[0m\u001b[0;36m3\u001b[0m\u001b[0;34m]\u001b[0m\u001b[0;34m\u001b[0m\u001b[0m\n\u001b[1;32m    164\u001b[0m             \u001b[0;31m#print \"max Z: \", max(Z)\u001b[0m\u001b[0;34m\u001b[0m\u001b[0;34m\u001b[0m\u001b[0m\n",
      "\u001b[0;31mIndexError\u001b[0m: list index out of range"
     ]
    }
   ],
   "source": [
    "pplotSection2D(benzene_nowdens_weights_cube_data[9],benzene_nowdens_weights_cube_atoms[9], position=10.0)"
   ]
  },
  {
   "cell_type": "code",
   "execution_count": 220,
   "metadata": {},
   "outputs": [],
   "source": [
    "def cube2xyz(cube_data, cube_atoms, outfile_dat=\"\", print_range=\"\", x_coord=\"\", y_coord=\"\", \n",
    "    z_coord=\"\", mpl=True, aa=1.0, output=True, p_label=\" (a.u.)\", show_plot=False, ax=False ):\n",
    "    import sys, os\n",
    "    import numpy as np\n",
    "    from ase.units import Bohr\n",
    "\n",
    "\n",
    "    print(\"Options: \\n\",\n",
    "        \"{:>20}:{:>20}\\n\".format(\"outfile_dat\",outfile_dat), \n",
    "        \"{:>20}:{:>20}\\n\".format(\"print_range\",print_range),\n",
    "        \"{:>20}:{:>20}\\n\".format(\"x_coord\",x_coord),\n",
    "        \"{:>20}:{:>20}\\n\".format(\"y_coord\",y_coord),\n",
    "        \"{:>20}:{:>20}\\n\".format(\"z_coord\",z_coord),\n",
    "        \"{:>20}:{!s:>20}\\n\".format(\"mpl\",mpl),\n",
    "        \"{:>20}:{:20.2e}\\n\".format(\"aa\",aa),\n",
    "        \"{:>20}:{!s:>20}\\n\".format(\"output\",output),\n",
    "        \"{:>20}:{:>20}\\n\".format(\"p_label\",p_label) )\n",
    "    at_coord=[]\n",
    "    spacing_vec=[]\n",
    "    nline=0\n",
    "    values=[]\n",
    "    fig=0\n",
    "    # Read cube file and parse all data\n",
    "    # for line in open(infile_cube,\"r\"):\n",
    "    #    nline+=1\n",
    "    #    if nline==3:\n",
    "    #        try:\n",
    "    #            nat=int(line.split()[0]) \n",
    "    #            origin=[float(line.split()[1]),\n",
    "    ##                float(line.split()[2]),float(line.split()[3])]\n",
    "    #        except:\n",
    "    #            print(\"ERROR: non recognized cube format\")\n",
    "    #    elif nline >3 and nline <= 6:\n",
    "    #        spacing_vec.append(line.split())\n",
    "    #    elif nline > 6 and nline <= 6+nat:\n",
    "    #        at_coord.append(line.split())\n",
    "    #    elif nline > 5:\n",
    "    #        if nline > 6+nat:\n",
    "    #            for i in line.split():\n",
    "    #                values.append(float(i)) \n",
    "    nat = cube_atoms.get_number_of_atoms()\n",
    "    # spacing_vec = cube_atoms.cell / cube_data.shape / Bohr\n",
    "    # just for now: ugly matrix of shape and spacing\n",
    "    spacing_vec = np.hstack([np.atleast_2d(cube_data.shape).T,\n",
    "                             cube_atoms.cell / cube_data.shape / Bohr])\n",
    "    # at_coord = cube_atoms.get_positions() / Bohr\n",
    "    at_coord = np.hstack( \n",
    "        [ np.atleast_2d(cube_atoms.get_atomic_numbers()).T, \n",
    "         np.zeros( ( cube_atoms.get_number_of_atoms(), 1) ),\n",
    "         cube_atoms.get_positions() / Bohr ] )\n",
    "\n",
    "    values = cube_data.flatten()\n",
    "    \n",
    "    # print(\" \")\n",
    "    def frange(x, y, jump):\n",
    "        while x < y:\n",
    "            yield x\n",
    "            x += jump\n",
    "\n",
    "    idx=-1\n",
    "\n",
    "    if print_range != \"\":\n",
    "        print(print_range+\" range:\")\n",
    "        if print_range == \"x\":\n",
    "            for i in range(0,int(spacing_vec[0][0])):\n",
    "                print(i*float(spacing_vec[0][1])*aa)\n",
    "        if print_range == \"y\":\n",
    "            for i in range(0,int(spacing_vec[1][0])):\n",
    "                print(i*float(spacing_vec[1][2])*aa)\n",
    "        if print_range == \"z\":\n",
    "            for i in range(0,int(spacing_vec[2][0])):\n",
    "                print(i*float(spacing_vec[2][3])*aa)\n",
    "            sys.exit()\n",
    "\n",
    "\n",
    "    filter=\"\"  # Create a filter for the values on a segment or plane\n",
    "    if x_coord != \"\":\n",
    "        filter=filter+ \" x > \" \\\n",
    "            + str(float(x_coord)-float(spacing_vec[0][1])+0.1) + \" and x < \" \\\n",
    "            + str(float(x_coord)+float(spacing_vec[0][1])-0.1) + \" \"\n",
    "    if y_coord != \"\":\n",
    "        if x_coord != \"\": \n",
    "            filter=filter+\" and \"\n",
    "        filter=filter+ \" y > \" \\\n",
    "            + str(float(y_coord)-float(spacing_vec[1][2])+0.1)+\" and y < \" \\\n",
    "            + str(float(y_coord)+float(spacing_vec[1][2])-0.1) + \" \"\n",
    "    if z_coord != \"\":\n",
    "        if len(filter)> 3:\n",
    "            filter=filter+\" and \"\n",
    "        filter=filter+ \" z > \" \\\n",
    "            + str(float(z_coord)-float(spacing_vec[2][3])+0.1) + \" and z < \" \\\n",
    "            + str(float(z_coord)+float(spacing_vec[2][3])-0.1) + \" \"\n",
    "    if filter==\"\":\n",
    "        filter=\"1==1\"\n",
    "        \n",
    "    print(\"Filter: {}\".format(filter))\n",
    "\n",
    "     # Set parameter for type of plot\n",
    "    plttmp=[]\n",
    "    xyzs=\"\"\n",
    "    if x_coord:\n",
    "        plttmp.append(x_coord)\n",
    "        xyzs=xyzs+\"x\"\n",
    "    if y_coord:\n",
    "        plttmp.append(y_coord)\n",
    "        xyzs=xyzs+\"y\"\n",
    "    if z_coord:\n",
    "        plttmp.append(z_coord)\n",
    "        xyzs=xyzs+\"z\"\n",
    "    plot_dim=4-len(plttmp)\n",
    "    # print(\" Representing \"+str(plot_dim)+\"D data...\", xyzs) \n",
    "\n",
    "\n",
    "      #Print x,y,z,value data to stdout, file or not at all\n",
    "    data=[]\n",
    "    \n",
    "    #print(\"Spacing vectors: {}\".format(spacing_vec))\n",
    "\n",
    "    if outfile_dat and output:\n",
    "        #if output file name is provided, print to file instead of STD out\n",
    "        tmp=sys.stdout\n",
    "        sys.stdout = open(outfile_dat,'w')\n",
    "    if not output:\n",
    "        tmp=sys.stdout\n",
    "        sys.stdout = open(os.devnull, 'w')\n",
    "\n",
    "    print(\"Spacing vectors: {}\".format(spacing_vec))\n",
    "    for i in range(0,int(spacing_vec[0][0])):\n",
    "        for j in range(0,int(spacing_vec[1][0])):\n",
    "            for k in range(0,int(spacing_vec[2][0])):\n",
    "                idx+=1\n",
    "                x,y,z= i*float(spacing_vec[0][1]), \\\n",
    "                    j*float(spacing_vec[1][2]),k*float(spacing_vec[2][3])\n",
    "                print(\"Looking at pos ({},{},{}).\".format(x,y,z))\n",
    "                if eval(filter):\n",
    "                    print(x/aa,y/aa,z/aa, values[idx])\n",
    "                    data.append([x/aa,y/aa,z/aa, values[idx]])\n",
    "    \n",
    "    print(\"Filtered {} data points.\".format(len(data)))\n",
    "\n",
    "    if outfile_dat or not output:\n",
    "        sys.stdout.close()\n",
    "        sys.stdout=tmp\n",
    "\n",
    "    ylabel=\"Cube magnitude\"\n",
    "    axe_labels=[\"x\",\"y\",\"z\"]\n",
    "    if mpl:\n",
    "        if plot_dim == 4:\n",
    "            print(\"4D plot not implemented\")\n",
    "            sys.exit()\n",
    "\n",
    "        if plot_dim == 3:\n",
    "            var_axe1=list(\"xyz\".replace(xyzs[0],\"\"))[0]  \n",
    "            var_axe2=list(\"xyz\".replace(xyzs[0],\"\"))[1]\n",
    "            print(\"Plot in 3D: \\n\",\n",
    "                \"{:>20}:{:>20}\\n\".format(\"var_axe1\",var_axe1), \n",
    "                \"{:>20}:{:>20}\\n\".format(\"var_axe2\",var_axe2),\n",
    "                \"{:>20}:{:>20}\\n\".format(\"axe_labels(var_axe1)\",\n",
    "                                         axe_labels.index(var_axe1)),\n",
    "                \"{:>20}:{:>20}\\n\".format(\"axe_labels(var_axe2)\",\n",
    "                                         axe_labels.index(var_axe2)),\n",
    "                \"{:>20}:{:>20}\\n\".format(\"len(data)\", len(data)))\n",
    "            \n",
    "            from mpl_toolkits.mplot3d.axes3d import Axes3D\n",
    "            from matplotlib import cm\n",
    "            #X, Y =np.meshgrid(zip(*data)[axe_labels.index(var_axe1)],\n",
    "            #    zip(*data)[axe_labels.index(var_axe2)])\n",
    "            \n",
    "            X,Y=list(zip(*data))[axe_labels.index(var_axe1)],\\\n",
    "                list(zip(*data))[axe_labels.index(var_axe2)]\n",
    "            Z = list(zip(*data))[3]\n",
    "            #print \"max Z: \", max(Z)\n",
    "            if not ax:\n",
    "                fig = plt.figure()\n",
    "                ax = fig.gca(projection='3d')\n",
    "            \n",
    "            # plt.hold(True)\n",
    "            # surf = ax.plot_surface(X, Y, Z, rstride=1, cstride=1, \n",
    "            #     cmap=cm.coolwarm, linewidth=0, antialiased=False)\n",
    "            surf = ax.plot_trisurf(X, Y, Z, cmap=cm.jet, linewidth=0.2)\n",
    "            fig = ax.figure\n",
    "            fig.colorbar(surf, ax=ax, shrink=0.5, aspect=5)\n",
    "            \n",
    "\n",
    "            ax.set_xlabel(var_axe1 + p_label)\n",
    "            ax.set_ylabel(var_axe2 + p_label)\n",
    "            ax.set_zlabel('Cube property')\n",
    "\n",
    "            coord=[]\n",
    "            print(\"at_coord: {}\".format(at_coord))\n",
    "            for c in at_coord: # Format atomic coordinates for plotting\n",
    "                 coord.append([(float(c[2]))/aa,(float(c[3]))/aa,(float(c[4]))/aa])\n",
    "\n",
    "            xc=list(zip(*coord))[axe_labels.index(var_axe1)]\n",
    "            yc=list(zip(*coord))[axe_labels.index(var_axe2)]\n",
    "            \n",
    "            spanZ = max(Z) - min(Z)\n",
    "            zc=[max(Z)+(spanZ*0.5)]*len(coord) #put atoms slightly higher than max val\n",
    "            # projection of atoms centers above the graph\n",
    "            ax.scatter(xc,yc,zc,s=150, c='b', marker='o',cmap=None, norm = None, \n",
    "                edgecolors='c', lw=3.0, alpha=1) \n",
    "           # for i in coord:\n",
    "\n",
    "        if plot_dim == 2:  # when 2 variables are fixed a 2D plot is produced\n",
    "            var_axe= \"xyz\".replace(xyzs[0],\"\").replace(xyzs[1],\"\")\n",
    "            var_idx=axe_labels.index(var_axe)\n",
    "            plot(list(zip(*data))[var_idx], list(zip(*data))[3])\n",
    "            plt.xlabel(var_axe + p_label)\n",
    "            plt.ylabel(\"Cube property\")\n",
    "\n",
    "        #plt.grid(True) \n",
    "        if show_plot:\n",
    "            show()   \n",
    "        \n",
    "        #if fig:\n",
    "        #    return fig\n",
    "        if ax:\n",
    "            return ax"
   ]
  },
  {
   "cell_type": "code",
   "execution_count": 221,
   "metadata": {},
   "outputs": [],
   "source": [
    "def plotSection2D(cube_data,cube_atoms, position, axis=0, ax=False):\n",
    "    import matplotlib.pyplot as plt\n",
    "    from mpl_toolkits.mplot3d.art3d import Poly3DCollection\n",
    "    from mpl_toolkits.mplot3d import Axes3D\n",
    "    if not ax:\n",
    "        fig = plt.figure()\n",
    "        ax = fig.gca(projection='3d')\n",
    "        \n",
    "        \n",
    "    if axis==0 or axis==\"x\":\n",
    "        tmp_ax = cube2xyz(cube_data,cube_atoms, x_coord=position, mpl=True, output=False, show_plot=False, ax=ax)\n",
    "    elif axis==1 or axis==\"y\":\n",
    "        tmp_ax = cube2xyz(cube_data,cube_atoms, y_coord=position, mpl=True, output=False, show_plot=False, ax=ax)\n",
    "    elif axis==2 or axis==\"z\":\n",
    "        tmp_ax = cube2xyz(cube_data,cube_atoms, z_coord=position, mpl=True, output=False, show_plot=False, ax=ax)\n",
    "        \n",
    "    return tmp_ax"
   ]
  },
  {
   "cell_type": "code",
   "execution_count": 222,
   "metadata": {},
   "outputs": [],
   "source": [
    "def sliceXYZ(cube_data,cube_atoms, sections=6, margin_relative=1e-1,cols=2,width=8,height=5):\n",
    "    from ase.units import Bohr\n",
    "    #from cube2xyz import cube2xyz\n",
    "    #from cube2xyz import plotSection2D\n",
    "    #cube_data, cube_atoms = read_cube_data(infile_cube)\n",
    "    X = cube_atoms.cell.diagonal()/Bohr\n",
    "    print(\"Slicing box of {} Bohr...\".format(X))\n",
    "    margin = margin_relative * X\n",
    "    #cols = 2\n",
    "    rows = round(sections/cols)\n",
    "    print(\"Displaying {:d} sections in {:d} rows and {:d} cols.\".format(sections,rows,cols))\n",
    "\n",
    "    fig = []\n",
    "    axes = []\n",
    "    dim_label= [\"x\",\",y\",\"z\"]\n",
    "    for dim in range(X.shape[0]):\n",
    "        #L = X.shape[3]\n",
    "        x = np.linspace(margin[dim],X[dim]-margin[dim],sections)\n",
    "\n",
    "        print(\"Processing {} Bohr slices in {} direction...\".format(x,dim_label[dim]))\n",
    "\n",
    "        tmp_fig, tmp_axes = plt.subplots(rows,cols,figsize=(cols*width,rows*height),subplot_kw={'projection':'3d'})\n",
    "        p = 0\n",
    "        for i in range(rows):\n",
    "            for j in range(cols):\n",
    "                if p < sections:\n",
    "                    print(\"Calling cube2xyz.plotSection2D at slice {} = {} Bohr...\".format(dim_label[dim],x[p]))\n",
    "\n",
    "                    tmp_ax = plotSection2D(cube_data,cube_atoms, x[p], axis=dim, ax=tmp_axes[i,j])\n",
    "                    tmp_ax.set_title(\".cube slice at {} = {:.3e} Bohr\".format(dim_label[dim],x[p]))\n",
    "                    #cube2xyz(infile_cube, y_coord=x[p],output=False, mpl=True,ax=axes[i,j])\n",
    "                    p += 1\n",
    "                else:\n",
    "                    break\n",
    "\n",
    "        fig.append(tmp_fig)\n",
    "        axes.append(tmp_axes)\n",
    "        \n",
    "    return fig"
   ]
  },
  {
   "cell_type": "code",
   "execution_count": null,
   "metadata": {},
   "outputs": [],
   "source": []
  },
  {
   "cell_type": "code",
   "execution_count": null,
   "metadata": {},
   "outputs": [],
   "source": []
  }
 ],
 "metadata": {
  "kernelspec": {
   "display_name": "Python 3",
   "language": "python",
   "name": "python3"
  },
  "language_info": {
   "codemirror_mode": {
    "name": "ipython",
    "version": 3
   },
   "file_extension": ".py",
   "mimetype": "text/x-python",
   "name": "python",
   "nbconvert_exporter": "python",
   "pygments_lexer": "ipython3",
   "version": "3.6.3"
  }
 },
 "nbformat": 4,
 "nbformat_minor": 2
}
