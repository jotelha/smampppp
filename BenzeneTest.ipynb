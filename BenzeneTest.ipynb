{
 "cells": [
  {
   "cell_type": "code",
   "execution_count": 17,
   "metadata": {},
   "outputs": [],
   "source": [
    "from fitESPconstrained import *"
   ]
  },
  {
   "cell_type": "code",
   "execution_count": 18,
   "metadata": {},
   "outputs": [],
   "source": [
    "from ase.build import molecule\n",
    "from ase.visualize import view"
   ]
  },
  {
   "cell_type": "code",
   "execution_count": 19,
   "metadata": {},
   "outputs": [],
   "source": [
    "benzene = molecule('C6H6')"
   ]
  },
  {
   "cell_type": "code",
   "execution_count": 20,
   "metadata": {},
   "outputs": [
    {
     "name": "stdout",
     "output_type": "stream",
     "text": [
      "Atom('C', [0.0, 1.395248, 0.0], index=0)\n",
      "Atom('C', [1.2083200000000001, 0.69762400000000002, 0.0], index=1)\n",
      "Atom('C', [1.2083200000000001, -0.69762400000000002, 0.0], index=2)\n",
      "Atom('C', [0.0, -1.395248, 0.0], index=3)\n",
      "Atom('C', [-1.2083200000000001, -0.69762400000000002, 0.0], index=4)\n",
      "Atom('C', [-1.2083200000000001, 0.69762400000000002, 0.0], index=5)\n",
      "Atom('H', [0.0, 2.4823599999999999, 0.0], index=6)\n",
      "Atom('H', [2.1497869999999999, 1.2411799999999999, 0.0], index=7)\n",
      "Atom('H', [2.1497869999999999, -1.2411799999999999, 0.0], index=8)\n",
      "Atom('H', [0.0, -2.4823599999999999, 0.0], index=9)\n",
      "Atom('H', [-2.1497869999999999, -1.2411799999999999, 0.0], index=10)\n",
      "Atom('H', [-2.1497869999999999, 1.2411799999999999, 0.0], index=11)\n"
     ]
    }
   ],
   "source": [
    "for a in benzene:\n",
    "    print(a)"
   ]
  },
  {
   "cell_type": "code",
   "execution_count": 24,
   "metadata": {},
   "outputs": [],
   "source": [
    "test = benzene[0]"
   ]
  },
  {
   "cell_type": "code",
   "execution_count": 29,
   "metadata": {},
   "outputs": [
    {
     "data": {
      "text/plain": [
       "'C'"
      ]
     },
     "execution_count": 29,
     "metadata": {},
     "output_type": "execute_result"
    }
   ],
   "source": [
    "test.symbol"
   ]
  },
  {
   "cell_type": "code",
   "execution_count": 22,
   "metadata": {},
   "outputs": [
    {
     "data": {
      "application/vnd.jupyter.widget-view+json": {
       "model_id": "4f9ce43fbfb64b61a81da22ed511f972",
       "version_major": 2,
       "version_minor": 0
      },
      "text/html": [
       "<p>Failed to display Jupyter Widget of type <code>HBox</code>.</p>\n",
       "<p>\n",
       "  If you're reading this message in Jupyter Notebook or JupyterLab, it may mean\n",
       "  that the widgets JavaScript is still loading. If this message persists, it\n",
       "  likely means that the widgets JavaScript library is either not installed or\n",
       "  not enabled. See the <a href=\"https://ipywidgets.readthedocs.io/en/stable/user_install.html\">Jupyter\n",
       "  Widgets Documentation</a> for setup instructions.\n",
       "</p>\n",
       "<p>\n",
       "  If you're reading this message in another notebook frontend (for example, a static\n",
       "  rendering on GitHub or <a href=\"https://nbviewer.jupyter.org/\">NBViewer</a>),\n",
       "  it may mean that your frontend doesn't currently support widgets.\n",
       "</p>\n"
      ],
      "text/plain": [
       "HBox(children=(NGLWidget(), VBox(children=(Dropdown(description='Show', options=('All', 'C', 'H'), value='All'), FloatSlider(value=0.8, description='Ball size', max=1.5, step=0.01)))))"
      ]
     },
     "metadata": {},
     "output_type": "display_data"
    }
   ],
   "source": [
    "view(benzene,viewer='ngl')"
   ]
  },
  {
   "cell_type": "code",
   "execution_count": 11,
   "metadata": {},
   "outputs": [],
   "source": [
    "infile_cost_h5 = 'sandbox/system100.cost_ua_neg.h5'"
   ]
  },
  {
   "cell_type": "code",
   "execution_count": 12,
   "metadata": {},
   "outputs": [],
   "source": [
    "A_horton, B_horton, C_horton, N_horton = \\\n",
    "        read_horton_cost_function(file_name = infile_cost_h5)"
   ]
  },
  {
   "cell_type": "code",
   "execution_count": 14,
   "metadata": {},
   "outputs": [],
   "source": [
    "X_unconstrained, A_unconstrained, B_unconstrained = \\\n",
    "            unconstrainedMinimize(A_matrix = A_horton,\n",
    "                        b_vector = B_horton,\n",
    "                        C_scalar = C_horton,\n",
    "                        debug    = True)"
   ]
  },
  {
   "cell_type": "code",
   "execution_count": 37,
   "metadata": {},
   "outputs": [
    {
     "data": {
      "text/plain": [
       "array([-0.32995227,  0.13740187,  0.14611325, -0.08869054,  0.14535466,\n",
       "        0.24916843,  0.05968685, -0.37675413,  0.15361529,  0.15995601,\n",
       "        0.01357123,  0.125004  ,  0.51767463, -0.39850823, -0.57901354,\n",
       "        0.4731755 ,  0.25134963, -0.40564907,  0.24553691,  0.1618362 ,\n",
       "        0.41776803,  0.37848833, -0.30819086, -0.54716458,  0.42707974,\n",
       "        0.34040823, -0.56427557,  0.3822506 ,  0.36537504,  0.39866003,\n",
       "       -0.30676208,  0.19923517, -0.18901963,  0.12772008,  0.34203855,\n",
       "        0.03372989, -0.51238329,  0.08519556,  0.05474783,  0.4376331 ,\n",
       "       -0.02318244,  0.43436063, -0.35509081, -0.4637006 ,  0.23398196,\n",
       "        0.38617388, -0.40725561,  0.31117669,  0.3333818 ,  0.31632931,\n",
       "        0.52635899, -0.3571091 , -0.5934792 ,  0.38190876,  0.46811357,\n",
       "       -0.649581  ,  0.39829966,  0.37581468,  0.35040656, -0.03113381,\n",
       "        0.08108863, -0.17824511,  0.20334884,  0.20046629, -0.19176515,\n",
       "        0.14120303, -0.01167768,  0.05180708, -0.17387741,  0.20386837,\n",
       "       -0.09726097,  0.24125863, -0.20550928,  0.16020732, -0.36945172,\n",
       "        0.17862264, -0.02695188,  0.15821852, -0.40514595,  0.14079912,\n",
       "        0.11223296,  0.76322373, -0.13978394,  0.35597419, -0.42527712,\n",
       "       -0.48142409,  0.35700809,  0.42061747, -0.51551984,  0.38246087,\n",
       "        0.24008883,  0.37272113,  0.5406042 , -0.48886103, -0.52152797,\n",
       "        0.3633203 ,  0.54355329, -0.56074153,  0.12645649,  0.36407785,\n",
       "        0.31655206, -0.45566428,  0.13392759])"
      ]
     },
     "execution_count": 37,
     "metadata": {},
     "output_type": "execute_result"
    }
   ],
   "source": [
    "X_unconstrained"
   ]
  },
  {
   "cell_type": "code",
   "execution_count": 31,
   "metadata": {},
   "outputs": [],
   "source": [
    "for i, a in enumerate(benzene):\n",
    "    a.charge = X_unconstrained[i]"
   ]
  },
  {
   "cell_type": "code",
   "execution_count": 42,
   "metadata": {},
   "outputs": [
    {
     "name": "stdout",
     "output_type": "stream",
     "text": [
      "C, -0.330\n",
      "C,  0.137\n",
      "C,  0.146\n",
      "C, -0.089\n",
      "C,  0.145\n",
      "C,  0.249\n",
      "H,  0.060\n",
      "H, -0.377\n",
      "H,  0.154\n",
      "H,  0.160\n",
      "H,  0.014\n",
      "H,  0.125\n"
     ]
    }
   ],
   "source": [
    "for a in benzene:\n",
    "    print(\"{}, {: .3f}\".format(a.symbol,a. charge))"
   ]
  },
  {
   "cell_type": "code",
   "execution_count": null,
   "metadata": {},
   "outputs": [],
   "source": []
  }
 ],
 "metadata": {
  "kernelspec": {
   "display_name": "Python 3",
   "language": "python",
   "name": "python3"
  },
  "language_info": {
   "codemirror_mode": {
    "name": "ipython",
    "version": 3
   },
   "file_extension": ".py",
   "mimetype": "text/x-python",
   "name": "python",
   "nbconvert_exporter": "python",
   "pygments_lexer": "ipython3",
   "version": "3.6.3"
  }
 },
 "nbformat": 4,
 "nbformat_minor": 2
}
