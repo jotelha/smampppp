{
 "cells": [
  {
   "cell_type": "markdown",
   "metadata": {},
   "source": [
    "# Constrained ESP fitting\n",
    "\n",
    "## using Horton's cost function"
   ]
  },
  {
   "cell_type": "markdown",
   "metadata": {},
   "source": [
    "According to https://theochem.github.io/horton/2.1.0/user_postproc_espfit.html, cost function is constructed as\n",
    "\n",
    "$$ c(\\mathbf{q}, \\Delta V_\\text{ref}) = \\int_V d\\mathbf{r} \\omega(\\mathbf{r}) \\cdot \\left( V_\\text{ab initio}(\\mathbf{r}) - \\sum_{i=1}^N \\frac{q_i}{\\mathbf{r} - \\mathbf{R}_i} - \\Delta V_\\text{ref} \\right)^2  $$\n",
    "\n",
    "> $\\Delta V_\\text{ref}$: constant that may account for differences in reference between the ab initio ESP and the point charge ESP. The need for such a term was established in the REPEAT paper for ESP fitting in 3D periodic systems.\n",
    "\n",
    "We look at an aperiodic system, neglect this term for now. The (unconstrained) cost function takes the general quadratic form\n",
    "\n",
    "$$ c_u(\\mathbf{x}) = \\mathbf{x}^T A\\ \\mathbf{x} - 2 \\mathbf{b}^T \\mathbf{x} - C $$\n",
    "\n",
    "with \n",
    "\n",
    "$$ C = - \\int_V d\\mathbf{r} \\omega(\\mathbf{r}) \\cdot \\left[ V_\\text{ab initio}(\\mathbf{r}) \\right]^2$$\n",
    "\n",
    "entry i,j of matrix $A^{N\\times N}$\n",
    "\n",
    "$$  A_{ij} = \\int_V d\\mathbf{r}\\ \\omega(\\mathbf{r}) \\cdot \\left( \\frac{1}{|\\mathbf{r} - \\mathbf{R}_i|} \\cdot \\frac{1}{|\\mathbf{r} - \\mathbf{R}_j|} \\right)  $$\n",
    "\n",
    "and entry i of vector $\\mathbf{b}$\n",
    "\n",
    "$$  b_i = \\int_V d\\mathbf{r}\\ \\omega(\\mathbf{r}) \\cdot \\frac{V_\\text{ab initio}(\\mathbf{r})}{|\\mathbf{r} - \\mathbf{R}_i|} $$\n",
    "\n",
    "In the code below, first the miniumum of an unconstrained system is found by solving\n",
    "\n",
    "$$ \\frac{1}{2} \\cdot \\frac{\\mathrm{d} c(\\mathbf{x})}{\\mathrm d  \\mathbf{x}}  = \\frac{1}{2} \\cdot \\nabla_\\mathbf{x} c = A \\mathbf{x} - \\mathbf{b} = 0$$\n",
    "\n",
    "with $\\nabla (\\mathbf{b}^T \\mathbf{x}) = \\mathbf{b}$ and \n",
    "$\\nabla \\cdot (\\mathbf{x}^T A \\mathbf{x}) = (A + A^T) \\mathbf{x} \n",
    "= 2 A \\mathbf{x} $ for symmetric A, as in our case. \n",
    "The (unconstrained) solution\n",
    "\n",
    "$$ \\mathbf{x}_u = A^{-1} \\mathbf{b} $$\n",
    "\n",
    "is corrected for *one* total charge constraint of the form \n",
    "\n",
    "$$ g(\\mathbf{x}) = \\mathbf{d} \\cdot \\mathbf{x} - q_\\text{tot} = 0 $$\n",
    "\n",
    "with all entries of $\\mathbf{d}$ unity. Notice that in the code below, the whole system is normalized in order to have unity diagonal entries $A_{jj}$. We neglect this normalization here.\n",
    "\n",
    "A Lagrange multiplier $\\lambda$ is introduced into the *constrained* cost function \n",
    "\n",
    "$$ c_c(\\mathbf{x},\\lambda) = \\mathbf{x}^T A\\ \\mathbf{x} - 2 \\mathbf{b}^T \\mathbf{x} - C + \\lambda \\cdot  g(\\mathbf{x}) $$\n",
    "\n",
    "and the system\n",
    "\n",
    "$$ \\frac{1}{2} \\cdot \\nabla_\\mathbf{x} c = A \\mathbf{x} - \\mathbf{b} + \\lambda \\cdot \\nabla_\\mathbf{x} g(\\mathbf{x}) = A \\mathbf{x} - \\mathbf{b} +\\lambda \\cdot \\mathbf{d} = 0 $$\n",
    "\n",
    "$$  \\nabla_\\mathbf{\\lambda} c = g(\\mathbf{x}) = \\mathbf{d} \\cdot \\mathbf{x} - q_\\text{tot} = 0 $$\n",
    "\n",
    "is solved by finding a correction for the unconstrained solution\n",
    "\n",
    "$$ \\mathbf{x} = \\mathbf{x}_u - \\lambda \\cdot\\delta \\mathbf{x} = A^{-1} \\mathbf{b} - \\lambda \\cdot \\delta \\mathbf{x} $$\n",
    "\n",
    "as \n",
    "\n",
    "$$ - \\lambda A \\delta \\mathbf{x} + \\lambda \\cdot \\mathbf{d} = 0 \n",
    "\\Leftrightarrow \\delta \\mathbf{x} = A^{-1} \\mathbf{d}$$\n",
    "\n",
    "and the Lagrange multiplier by\n",
    "\n",
    "$$ g(\\mathbf{x}) \n",
    "    = \\mathbf{d} \\cdot \\left( \\mathbf{x}_u \n",
    "        - \\lambda \\ \\delta \\mathbf{x} \\right)- q_\\text{tot} \n",
    "    = \\mathbf{d} \\cdot A^{-1} \\mathbf{b} \n",
    "        - \\lambda \\ \\mathbf{d} \\cdot \\delta \\mathbf{x} - q_\\text{tot} \n",
    "    = 0 $$\n",
    "\n",
    "$$ \\lambda = \\frac{\\mathbf{d} \\cdot A^{-1} \\mathbf{b} - q_\\text{tot}}\n",
    "    { \\mathbf{d} \\cdot \\delta \\mathbf{x} }\n",
    "    = \\frac{\\mathbf{b} \\cdot \\delta \\mathbf{x} - q_\\text{tot}}\n",
    "    { \\mathbf{d} \\cdot \\delta \\mathbf{x} }$$\n",
    "    \n",
    "    \n",
    "and thereby the constrained minimum at\n",
    "$$ \\mathbf{x} \n",
    "    = \\mathbf{x}_u \n",
    "        - \\frac{\\mathbf{b} \\cdot \\delta \\mathbf{x} - q_\\text{tot}}\n",
    "        { \\mathbf{d} \\cdot \\delta \\mathbf{x} } \n",
    "        \\cdot \\delta \\mathbf{x}$$\n",
    "        \n",
    "as implemented in HORTON"
   ]
  },
  {
   "cell_type": "code",
   "execution_count": 1,
   "metadata": {},
   "outputs": [],
   "source": [
    "# modified excerpt from horton/espfit/cost.py\n",
    "\n",
    "import numpy as np\n",
    "import h5py\n",
    "\n",
    "def solve(_A, _B, _C, _natom, qtot=None, ridge=0.0):\n",
    "    # apply regularization to atomic degrees of freedom\n",
    "    A = _A.copy()\n",
    "    A.ravel()[::len(A)+1][:_natom] += ridge*np.diag(A)[:_natom].mean()\n",
    "    # construct preconditioned matrices\n",
    "    norms = np.diag(A)**0.5\n",
    "    print(\"Diagonal of A: \\n {}\".format(np.diag(A)))\n",
    "    print(\"Vector norms: \\n {}\".format(norms))\n",
    "    print(\"Matrix norms: \\n {}\".format(norms*norms.reshape(-1,1)))\n",
    "\n",
    "    A = A/norms/norms.reshape(-1,1)\n",
    "    print(\"Normed diagonal of A: \\n {}\".format(np.diag(A)))\n",
    "\n",
    "    B = _B/norms\n",
    "    print(\"Normed B: \\n {}\".format(B))\n",
    "\n",
    "    x = np.linalg.solve(A, B)\n",
    "    if qtot is not None:\n",
    "        # Fix the total charge with a lagrange multiplier\n",
    "        d = np.zeros(len(A))\n",
    "        d[:_natom] = 1/norms[:_natom]\n",
    "        d[_natom:] = 0.0\n",
    "        aid = np.linalg.solve(A, d)\n",
    "        lagrange = (np.dot(aid, B) - qtot)/np.dot(aid, d)\n",
    "        x -= aid*lagrange\n",
    "    x /= norms\n",
    "    return x"
   ]
  },
  {
   "cell_type": "code",
   "execution_count": 2,
   "metadata": {},
   "outputs": [],
   "source": [
    "np.set_printoptions(precision=4)"
   ]
  },
  {
   "cell_type": "code",
   "execution_count": 3,
   "metadata": {},
   "outputs": [
    {
     "name": "stdout",
     "output_type": "stream",
     "text": [
      "A: \n",
      " [[ 8.5387  8.5216  8.5216]\n",
      " [ 8.5216  9.0212  8.3956]\n",
      " [ 8.5216  8.3956  9.0212]]\n",
      "B: [-0.0105 -0.0797 -0.0797]\n",
      "C: 0.0266115260155\n",
      "N: 3\n"
     ]
    }
   ],
   "source": [
    "# Example: water\n",
    "# load the cost function\n",
    "cost_function = h5py.File('h2o.cost.h5')\n",
    "cost = cost_function['cost']\n",
    "A = cost['A'][:]\n",
    "B = cost['B'][:]\n",
    "C = cost['C'].value\n",
    "N = cost['natom'].value\n",
    "print(\"A: \\n {}\".format(A))\n",
    "print(\"B: {}\".format(B))\n",
    "print(\"C: {}\".format(C))\n",
    "print(\"N: {}\".format(N))"
   ]
  },
  {
   "cell_type": "code",
   "execution_count": 4,
   "metadata": {},
   "outputs": [
    {
     "name": "stdout",
     "output_type": "stream",
     "text": [
      "Diagonal of A: \n",
      " [ 8.5387  9.0212  9.0212]\n",
      "Vector norms: \n",
      " [ 2.9221  3.0035  3.0035]\n",
      "Matrix norms: \n",
      " [[ 8.5387  8.7766  8.7766]\n",
      " [ 8.7766  9.0212  9.0212]\n",
      " [ 8.7766  9.0212  9.0212]]\n",
      "Normed diagonal of A: \n",
      " [ 1.  1.  1.]\n",
      "Normed B: \n",
      " [-0.0036 -0.0265 -0.0265]\n"
     ]
    }
   ],
   "source": [
    "q1 = solve(A,B,C,N)"
   ]
  },
  {
   "cell_type": "code",
   "execution_count": 5,
   "metadata": {},
   "outputs": [
    {
     "data": {
      "text/plain": [
       "array([ 0.3378, -0.1699, -0.1699])"
      ]
     },
     "execution_count": 5,
     "metadata": {},
     "output_type": "execute_result"
    }
   ],
   "source": [
    "q1"
   ]
  },
  {
   "cell_type": "code",
   "execution_count": 6,
   "metadata": {},
   "outputs": [
    {
     "data": {
      "text/plain": [
       "-0.0019095241274412478"
      ]
     },
     "execution_count": 6,
     "metadata": {},
     "output_type": "execute_result"
    }
   ],
   "source": [
    "sum(q1)"
   ]
  },
  {
   "cell_type": "code",
   "execution_count": 7,
   "metadata": {},
   "outputs": [
    {
     "name": "stdout",
     "output_type": "stream",
     "text": [
      "Diagonal of A: \n",
      " [ 8.5387  9.0212  9.0212]\n",
      "Vector norms: \n",
      " [ 2.9221  3.0035  3.0035]\n",
      "Matrix norms: \n",
      " [[ 8.5387  8.7766  8.7766]\n",
      " [ 8.7766  9.0212  9.0212]\n",
      " [ 8.7766  9.0212  9.0212]]\n",
      "Normed diagonal of A: \n",
      " [ 1.  1.  1.]\n",
      "Normed B: \n",
      " [-0.0036 -0.0265 -0.0265]\n"
     ]
    }
   ],
   "source": [
    "q2 = solve(A,B,C,N,qtot=0)"
   ]
  },
  {
   "cell_type": "code",
   "execution_count": 8,
   "metadata": {},
   "outputs": [
    {
     "data": {
      "text/plain": [
       "array([ 0.3396, -0.1698, -0.1698])"
      ]
     },
     "execution_count": 8,
     "metadata": {},
     "output_type": "execute_result"
    }
   ],
   "source": [
    "q2"
   ]
  },
  {
   "cell_type": "code",
   "execution_count": 9,
   "metadata": {},
   "outputs": [
    {
     "data": {
      "text/plain": [
       "0.0"
      ]
     },
     "execution_count": 9,
     "metadata": {},
     "output_type": "execute_result"
    }
   ],
   "source": [
    "sum(q2)"
   ]
  },
  {
   "cell_type": "code",
   "execution_count": 10,
   "metadata": {},
   "outputs": [
    {
     "name": "stdout",
     "output_type": "stream",
     "text": [
      "Diagonal of A: \n",
      " [ 8.5387  9.0212  9.0212]\n",
      "Vector norms: \n",
      " [ 2.9221  3.0035  3.0035]\n",
      "Matrix norms: \n",
      " [[ 8.5387  8.7766  8.7766]\n",
      " [ 8.7766  9.0212  9.0212]\n",
      " [ 8.7766  9.0212  9.0212]]\n",
      "Normed diagonal of A: \n",
      " [ 1.  1.  1.]\n",
      "Normed B: \n",
      " [-0.0036 -0.0265 -0.0265]\n"
     ]
    }
   ],
   "source": [
    "q3 = solve(A,B,C,N,qtot=1)"
   ]
  },
  {
   "cell_type": "code",
   "execution_count": 11,
   "metadata": {},
   "outputs": [
    {
     "data": {
      "text/plain": [
       "array([ 1.2558, -0.1279, -0.1279])"
      ]
     },
     "execution_count": 11,
     "metadata": {},
     "output_type": "execute_result"
    }
   ],
   "source": [
    "q3"
   ]
  },
  {
   "cell_type": "code",
   "execution_count": 12,
   "metadata": {},
   "outputs": [
    {
     "data": {
      "text/plain": [
       "0.99999999999999989"
      ]
     },
     "execution_count": 12,
     "metadata": {},
     "output_type": "execute_result"
    }
   ],
   "source": [
    "sum(q3)"
   ]
  },
  {
   "cell_type": "markdown",
   "metadata": {},
   "source": [
    "# Arbitrary number of equality constraints"
   ]
  },
  {
   "cell_type": "markdown",
   "metadata": {},
   "source": [
    "We modifiy the optimization in order to allow for an arbitrary amount of constraints.\n",
    "\n",
    "M lagrange multipliers $\\lambda_k$ are introduced into the *constrained* cost function \n",
    "\n",
    "$$ c_c(\\mathbf{x},\\mathbf{\\lambda}) = \\mathbf{x}^T A\\ \\mathbf{x} - 2 \\mathbf{b}^T \\mathbf{x} - C + \\sum_{k=1}^M \\lambda_k \\cdot  g_k(\\mathbf{x}) $$\n",
    "\n",
    "All our constraints (charge groups and symmetries) will be of linear form \n",
    "\n",
    "$$ g_k(\\mathbf{x}) = \\mathbf{d}_k \\cdot \\mathbf{x} - q_k = 0 $$\n",
    "\n",
    "and thus can be compacted into matrix form\n",
    "\n",
    "$$ D^{(M \\times N)} \\mathbf{x} - \\mathbf{q}^{(M\\times 1)} = 0 $$\n",
    "\n",
    "with \n",
    "\n",
    "$$ D^T = [\\mathbf{d}_1, \\mathbf{d}_2, \\dots , \\mathbf{d}_M] $$\n",
    "\n",
    "and hence \n",
    "$$ c_c(\\mathbf{x}^{(N\\times1)},\\mathbf{\\lambda}^{(M\\times1)}) = \\mathbf{x}^T A\\ \\mathbf{x} \n",
    "    - 2 \\mathbf{b}^T \\mathbf{x} \n",
    "    - C + \\mathbf{\\lambda}^T \\cdot \\left( D \\mathbf{x} - \\mathbf{q} \\right) $$\n",
    "\n",
    "Derivative \n",
    "\n",
    "$$ \n",
    "\\begin{align}\n",
    "    \\nabla_\\mathbf{x} \\cdot c_c & = 2\\ A\\ \\mathbf{x} \n",
    "    + \\sum_{k=1}^M \\lambda_k \\mathbf{d}_k - 2 \\mathbf{b} & = 0\\\\\n",
    "    \\nabla_\\mathbf{\\lambda} \\cdot c_c & = D\\ \\mathbf{x} - \\mathbf{q} & = 0\n",
    "\\end{align}\n",
    "$$\n",
    "\n",
    "Identify \n",
    "\n",
    "$$ D^T \\mathbf{\\lambda}= \\sum_{k=1}^M \\lambda_k \\mathbf{d}_k  $$\n",
    "\n",
    "and solve\n",
    "\n",
    "$$ \\tilde{A} \\mathbf{y} - \\tilde{\\mathbf{b}} = 0$$ \n",
    "\n",
    "with generalized $\\mathbf{y}^T = [\\mathbf{x}^T, \\mathbf{\\lambda}^T ]$ \n",
    "as well as $(N+M)\\times(N+M)$ matrix\n",
    "\n",
    "$$ \\tilde{A} = \n",
    "    \\begin{bmatrix}\n",
    "        2 A & D^T \\\\\n",
    "        D & 0\n",
    "    \\end{bmatrix} $$\n",
    "    \n",
    "and $(N+M)$ vector\n",
    "\n",
    "$$ \\tilde{\\mathbf{b}} =  \n",
    "   \\begin{bmatrix}\n",
    "        2 \\mathbf{b} \\\\\n",
    "        \\mathbf{q}\n",
    "   \\end{bmatrix} $$"
   ]
  },
  {
   "cell_type": "code",
   "execution_count": 13,
   "metadata": {},
   "outputs": [],
   "source": [
    "import numpy as np\n",
    "\n",
    "def constrainedMinimize(A_matrix, b_vector, C_scalar, D_matrix = None, q_vector = np.array([0]), debug=False):\n",
    "    N = b_vector.shape[0]\n",
    "    M = q_vector.shape[0]\n",
    "    \n",
    "    if not isinstance(D_matrix,np.ndarray):\n",
    "        D_matrix = np.atleast_2d( np.ones(N) )\n",
    "    \n",
    "    if debug:\n",
    "        print(\"{:d} unknowns, {:d} equality constraints\".format(N,M))\n",
    "        print(\"A {}: \\n {}\".format(A_matrix.shape,A_matrix))\n",
    "        print(\"B {}: \\n {}\".format(b_vector.shape,b_vector))\n",
    "        print(\"C {}: \\n {}\".format(C_scalar.shape,C_scalar))\n",
    "        print(\"D {}: \\n {}\".format(D_matrix.shape,D_matrix))\n",
    "        print(\"q {}: \\n {}\".format(q_vector.shape,q_vector))\n",
    "\n",
    "    A_upper = np.block([ 2*np.atleast_2d(A_matrix), np.atleast_2d(D_matrix).T ])\n",
    "    A_lower = np.block([ np.atleast_2d(D_matrix), np.atleast_2d(np.zeros((M,M)))])\n",
    "    if debug:\n",
    "        print(\"upper A ({}): \\n {}\".format(A_upper.shape,A_upper))\n",
    "        print(\"upper A ({}): \\n {}\".format(A_lower.shape,A_lower))\n",
    "\n",
    "    A = np.block( [ [ A_upper ], [ A_lower ] ] )\n",
    "    \n",
    "    if debug:\n",
    "        print(\"block A ({}): \\n {}\".format(A.shape,A))\n",
    "    \n",
    "    B = np.block( [2*np.atleast_1d(b_vector), np.atleast_1d(q_vector)] )\n",
    "    \n",
    "    if debug:\n",
    "        print(\"block B ({}): \\n {}\".format(B.shape,B))\n",
    "\n",
    "    C = C_scalar\n",
    "    \n",
    "    x = np.linalg.solve(A, B)\n",
    "    \n",
    "    return x"
   ]
  },
  {
   "cell_type": "code",
   "execution_count": 61,
   "metadata": {},
   "outputs": [],
   "source": [
    "# charges: list of charges to meet symmetry constraint, \n",
    "#   indices beginning from 0\n",
    "#   can also be list of list of group of charges to be symmetric, \n",
    "#   indices beginning from 0, i.e. charges = [[0,1],[2,3,4]] requires\n",
    "#   the cummulative charge of atom 0 and 1 to equal \n",
    "#   the sum over charges 2 to 4\n",
    "# N: total number of charges\n",
    "# symmetry: scalar or list of symmetry requirements\n",
    "#   default 1 causes equality, -1 antisymmetry, \n",
    "#   values different from +/- unity result in relative scaling\n",
    "def constructPairwiseSymmetryConstraints(charges, N, symmetry=1.0, debug=False):\n",
    "    M = len(charges)-1\n",
    "\n",
    "    symmetry = symmetry*np.ones(M)\n",
    "    \n",
    "    if debug:\n",
    "        print(\"{:d} unknowns, {:d} pairwise equality constraints\".format(N,M))\n",
    "        print(\"symmetry list ({}):\\n{}\".format(symmetry.shape,symmetry))\n",
    "        \n",
    "    D = np.atleast_2d(np.zeros((M,N)))\n",
    "    q = np.atleast_1d(np.zeros(M))\n",
    "    D[:,charges[0]] = 1\n",
    "    \n",
    "    for j in range(M):\n",
    "        D[j,charges[j+1]] = -1.0*symmetry[j]\n",
    "\n",
    "    if debug:\n",
    "        print(\"D ({}):\\n{}\".format(D.shape,D))\n",
    "        print(\"q ({}):\\n{}\".format(q.shape,q))\n",
    "    \n",
    "    return D, q"
   ]
  },
  {
   "cell_type": "code",
   "execution_count": 15,
   "metadata": {},
   "outputs": [],
   "source": [
    "# chargeGroups: list of list of charges in charge groups, \n",
    "#    indices beginning from 0, i.e. chargeGroups = [[0,1],[2,3,4]]\n",
    "# N: total number of charges\n",
    "# q: required charges per charge group\n",
    "\n",
    "def constructChargegroupConstraints(chargeGroups, N, q=0, debug=False):\n",
    "    M = len(chargeGroups)\n",
    "\n",
    "    q = np.atleast_1d(q*np.ones(M))\n",
    "\n",
    "    if debug:\n",
    "        print(\"{:d} unknowns, {:d} pairwise equality constraints\".format(N,M))\n",
    "\n",
    "    D = np.atleast_2d(np.zeros((M,N)))\n",
    "    #q = np.atleast_2d(np.zeros(M))    \n",
    "    \n",
    "    for j in range(M):\n",
    "        D[j,chargeGroups[j]] = 1.0\n",
    "\n",
    "    if debug:\n",
    "        print(\"D ({}):\\n{}\".format(D.shape,D))\n",
    "        print(\"q ({}):\\n{}\".format(q.shape,q))\n",
    "    \n",
    "    return D, q"
   ]
  },
  {
   "cell_type": "code",
   "execution_count": 16,
   "metadata": {},
   "outputs": [
    {
     "name": "stdout",
     "output_type": "stream",
     "text": [
      "Diagonal of A: \n",
      " [ 8.5387  9.0212  9.0212]\n",
      "Vector norms: \n",
      " [ 2.9221  3.0035  3.0035]\n",
      "Matrix norms: \n",
      " [[ 8.5387  8.7766  8.7766]\n",
      " [ 8.7766  9.0212  9.0212]\n",
      " [ 8.7766  9.0212  9.0212]]\n",
      "Normed diagonal of A: \n",
      " [ 1.  1.  1.]\n",
      "Normed B: \n",
      " [-0.0036 -0.0265 -0.0265]\n"
     ]
    }
   ],
   "source": [
    "q1u = solve(A,B,C,N)"
   ]
  },
  {
   "cell_type": "code",
   "execution_count": 17,
   "metadata": {},
   "outputs": [
    {
     "name": "stdout",
     "output_type": "stream",
     "text": [
      "3 unknowns, 1 equality constraints\n",
      "A (3, 3): \n",
      " [[ 8.5387  8.5216  8.5216]\n",
      " [ 8.5216  9.0212  8.3956]\n",
      " [ 8.5216  8.3956  9.0212]]\n",
      "B (3,): \n",
      " [-0.0105 -0.0797 -0.0797]\n",
      "C (): \n",
      " 0.0266115260155\n",
      "D (1, 3): \n",
      " [[ 1.  1.  1.]]\n",
      "q (1,): \n",
      " [0]\n",
      "upper A ((3, 4)): \n",
      " [[ 17.0774  17.0433  17.0433   1.    ]\n",
      " [ 17.0433  18.0423  16.7912   1.    ]\n",
      " [ 17.0433  16.7912  18.0423   1.    ]]\n",
      "upper A ((1, 4)): \n",
      " [[ 1.  1.  1.  0.]]\n",
      "block A ((4, 4)): \n",
      " [[ 17.0774  17.0433  17.0433   1.    ]\n",
      " [ 17.0433  18.0423  16.7912   1.    ]\n",
      " [ 17.0433  16.7912  18.0423   1.    ]\n",
      " [  1.       1.       1.       0.    ]]\n",
      "block B ((4,)): \n",
      " [-0.021  -0.1594 -0.1594  0.    ]\n"
     ]
    }
   ],
   "source": [
    "q1c = constrainedMinimize(A,B,C,debug=True)"
   ]
  },
  {
   "cell_type": "code",
   "execution_count": 18,
   "metadata": {},
   "outputs": [
    {
     "data": {
      "text/plain": [
       "array([ 0.3378, -0.1699, -0.1699])"
      ]
     },
     "execution_count": 18,
     "metadata": {},
     "output_type": "execute_result"
    }
   ],
   "source": [
    "q1u"
   ]
  },
  {
   "cell_type": "code",
   "execution_count": 19,
   "metadata": {},
   "outputs": [
    {
     "data": {
      "text/plain": [
       "array([ 0.3396, -0.1698, -0.1698, -0.0326])"
      ]
     },
     "execution_count": 19,
     "metadata": {},
     "output_type": "execute_result"
    }
   ],
   "source": [
    "q1c"
   ]
  },
  {
   "cell_type": "code",
   "execution_count": 20,
   "metadata": {},
   "outputs": [
    {
     "name": "stdout",
     "output_type": "stream",
     "text": [
      "Diagonal of A: \n",
      " [ 8.5387  9.0212  9.0212]\n",
      "Vector norms: \n",
      " [ 2.9221  3.0035  3.0035]\n",
      "Matrix norms: \n",
      " [[ 8.5387  8.7766  8.7766]\n",
      " [ 8.7766  9.0212  9.0212]\n",
      " [ 8.7766  9.0212  9.0212]]\n",
      "Normed diagonal of A: \n",
      " [ 1.  1.  1.]\n",
      "Normed B: \n",
      " [-0.0036 -0.0265 -0.0265]\n"
     ]
    }
   ],
   "source": [
    "q2_horton = solve(A,B,C,N,qtot=1)"
   ]
  },
  {
   "cell_type": "code",
   "execution_count": 21,
   "metadata": {},
   "outputs": [
    {
     "name": "stdout",
     "output_type": "stream",
     "text": [
      "3 unknowns, 1 equality constraints\n",
      "A (3, 3): \n",
      " [[ 8.5387  8.5216  8.5216]\n",
      " [ 8.5216  9.0212  8.3956]\n",
      " [ 8.5216  8.3956  9.0212]]\n",
      "B (3,): \n",
      " [-0.0105 -0.0797 -0.0797]\n",
      "C (): \n",
      " 0.0266115260155\n",
      "D (1, 3): \n",
      " [[ 1.  1.  1.]]\n",
      "q (1,): \n",
      " [1]\n",
      "upper A ((3, 4)): \n",
      " [[ 17.0774  17.0433  17.0433   1.    ]\n",
      " [ 17.0433  18.0423  16.7912   1.    ]\n",
      " [ 17.0433  16.7912  18.0423   1.    ]]\n",
      "upper A ((1, 4)): \n",
      " [[ 1.  1.  1.  0.]]\n",
      "block A ((4, 4)): \n",
      " [[ 17.0774  17.0433  17.0433   1.    ]\n",
      " [ 17.0433  18.0423  16.7912   1.    ]\n",
      " [ 17.0433  16.7912  18.0423   1.    ]\n",
      " [  1.       1.       1.       0.    ]]\n",
      "block B ((4,)): \n",
      " [-0.021  -0.1594 -0.1594  1.    ]\n"
     ]
    }
   ],
   "source": [
    "q2c = constrainedMinimize(A,B,C,q_vector=np.array([1]),debug=True)"
   ]
  },
  {
   "cell_type": "code",
   "execution_count": 22,
   "metadata": {},
   "outputs": [
    {
     "data": {
      "text/plain": [
       "array([ 1.2558, -0.1279, -0.1279])"
      ]
     },
     "execution_count": 22,
     "metadata": {},
     "output_type": "execute_result"
    }
   ],
   "source": [
    "q2_horton"
   ]
  },
  {
   "cell_type": "code",
   "execution_count": 23,
   "metadata": {},
   "outputs": [
    {
     "data": {
      "text/plain": [
       "array([  1.2558,  -0.1279,  -0.1279, -17.1071])"
      ]
     },
     "execution_count": 23,
     "metadata": {},
     "output_type": "execute_result"
    }
   ],
   "source": [
    "q2c"
   ]
  },
  {
   "cell_type": "code",
   "execution_count": 24,
   "metadata": {},
   "outputs": [],
   "source": [
    "d1 = np.array([0,1,-2])"
   ]
  },
  {
   "cell_type": "code",
   "execution_count": 25,
   "metadata": {},
   "outputs": [
    {
     "name": "stdout",
     "output_type": "stream",
     "text": [
      "3 unknowns, 1 equality constraints\n",
      "A (3, 3): \n",
      " [[ 8.5387  8.5216  8.5216]\n",
      " [ 8.5216  9.0212  8.3956]\n",
      " [ 8.5216  8.3956  9.0212]]\n",
      "B (3,): \n",
      " [-0.0105 -0.0797 -0.0797]\n",
      "C (): \n",
      " 0.0266115260155\n",
      "D (3,): \n",
      " [ 0  1 -2]\n",
      "q (1,): \n",
      " [0]\n",
      "upper A ((3, 4)): \n",
      " [[ 17.0774  17.0433  17.0433   0.    ]\n",
      " [ 17.0433  18.0423  16.7912   1.    ]\n",
      " [ 17.0433  16.7912  18.0423  -2.    ]]\n",
      "upper A ((1, 4)): \n",
      " [[ 0.  1. -2.  0.]]\n",
      "block A ((4, 4)): \n",
      " [[ 17.0774  17.0433  17.0433   0.    ]\n",
      " [ 17.0433  18.0423  16.7912   1.    ]\n",
      " [ 17.0433  16.7912  18.0423  -2.    ]\n",
      " [  0.       1.      -2.       0.    ]]\n",
      "block B ((4,)): \n",
      " [-0.021  -0.1594 -0.1594  0.    ]\n"
     ]
    }
   ],
   "source": [
    "q3c = constrainedMinimize(A,B,C,D_matrix=d1,q_vector=np.array([0]),debug=True)"
   ]
  },
  {
   "cell_type": "code",
   "execution_count": 26,
   "metadata": {},
   "outputs": [
    {
     "data": {
      "text/plain": [
       "array([ 0.2884, -0.1935, -0.0967,  0.0403])"
      ]
     },
     "execution_count": 26,
     "metadata": {},
     "output_type": "execute_result"
    }
   ],
   "source": [
    "q3c"
   ]
  },
  {
   "cell_type": "code",
   "execution_count": 27,
   "metadata": {},
   "outputs": [],
   "source": [
    "d1 = np.array([0,1,-2])"
   ]
  },
  {
   "cell_type": "code",
   "execution_count": 28,
   "metadata": {},
   "outputs": [],
   "source": [
    "d2 = np.array([1,1,1])"
   ]
  },
  {
   "cell_type": "code",
   "execution_count": 29,
   "metadata": {},
   "outputs": [],
   "source": [
    "D = np.block([[d1],[d2]])"
   ]
  },
  {
   "cell_type": "code",
   "execution_count": 30,
   "metadata": {},
   "outputs": [
    {
     "data": {
      "text/plain": [
       "array([[ 0,  1, -2],\n",
       "       [ 1,  1,  1]])"
      ]
     },
     "execution_count": 30,
     "metadata": {},
     "output_type": "execute_result"
    }
   ],
   "source": [
    "D"
   ]
  },
  {
   "cell_type": "code",
   "execution_count": 31,
   "metadata": {},
   "outputs": [],
   "source": [
    "q = np.array([0,3])"
   ]
  },
  {
   "cell_type": "code",
   "execution_count": 32,
   "metadata": {},
   "outputs": [
    {
     "name": "stdout",
     "output_type": "stream",
     "text": [
      "3 unknowns, 2 equality constraints\n",
      "A (3, 3): \n",
      " [[ 8.5387  8.5216  8.5216]\n",
      " [ 8.5216  9.0212  8.3956]\n",
      " [ 8.5216  8.3956  9.0212]]\n",
      "B (3,): \n",
      " [-0.0105 -0.0797 -0.0797]\n",
      "C (): \n",
      " 0.0266115260155\n",
      "D (2, 3): \n",
      " [[ 0  1 -2]\n",
      " [ 1  1  1]]\n",
      "q (2,): \n",
      " [0 3]\n",
      "upper A ((3, 5)): \n",
      " [[ 17.0774  17.0433  17.0433   0.       1.    ]\n",
      " [ 17.0433  18.0423  16.7912   1.       1.    ]\n",
      " [ 17.0433  16.7912  18.0423  -2.       1.    ]]\n",
      "upper A ((2, 5)): \n",
      " [[ 0.  1. -2.  0.  0.]\n",
      " [ 1.  1.  1.  0.  0.]]\n",
      "block A ((5, 5)): \n",
      " [[ 17.0774  17.0433  17.0433   0.       1.    ]\n",
      " [ 17.0433  18.0423  16.7912   1.       1.    ]\n",
      " [ 17.0433  16.7912  18.0423  -2.       1.    ]\n",
      " [  0.       1.      -2.       0.       0.    ]\n",
      " [  1.       1.       1.       0.       0.    ]]\n",
      "block B ((5,)): \n",
      " [-0.021  -0.1594 -0.1594  0.      3.    ]\n"
     ]
    }
   ],
   "source": [
    "q4c = constrainedMinimize(A,B,C,D_matrix=D,q_vector=q,debug=True)"
   ]
  },
  {
   "cell_type": "code",
   "execution_count": 33,
   "metadata": {},
   "outputs": [
    {
     "data": {
      "text/plain": [
       "array([  3.0755e+00,  -5.0328e-02,  -2.5164e-02,   1.0487e-02,  -5.1256e+01])"
      ]
     },
     "execution_count": 33,
     "metadata": {},
     "output_type": "execute_result"
    }
   ],
   "source": [
    "q4c"
   ]
  },
  {
   "cell_type": "code",
   "execution_count": 34,
   "metadata": {},
   "outputs": [
    {
     "data": {
      "text/plain": [
       "-48.245273601712007"
      ]
     },
     "execution_count": 34,
     "metadata": {},
     "output_type": "execute_result"
    }
   ],
   "source": [
    "sum(q4c)"
   ]
  },
  {
   "cell_type": "code",
   "execution_count": 35,
   "metadata": {},
   "outputs": [
    {
     "name": "stdout",
     "output_type": "stream",
     "text": [
      "10 unknowns, 2 pairwise equality constraints\n",
      "symmetry list ((2,)):\n",
      "[ 1.  1.]\n",
      "D ((2, 10)):\n",
      "[[ 0.  1.  0. -1.  0.  0.  0.  0.  0.  0.]\n",
      " [ 0.  1.  0.  0.  0.  0.  0.  0. -1.  0.]]\n",
      "q ((2,)):\n",
      "[ 0.  0.]\n"
     ]
    }
   ],
   "source": [
    "D2,q2 = constructPairwiseSymmetryConstraints([1,3,8],10,debug=True)"
   ]
  },
  {
   "cell_type": "code",
   "execution_count": 36,
   "metadata": {},
   "outputs": [
    {
     "name": "stdout",
     "output_type": "stream",
     "text": [
      "10 unknowns, 2 pairwise equality constraints\n",
      "symmetry list ((2,)):\n",
      "[-1. -1.]\n",
      "D ((2, 10)):\n",
      "[[ 0.  1.  0.  1.  0.  0.  0.  0.  0.  0.]\n",
      " [ 0.  1.  0.  0.  0.  0.  0.  0.  1.  0.]]\n",
      "q ((2,)):\n",
      "[ 0.  0.]\n"
     ]
    }
   ],
   "source": [
    "D3,q3 = constructPairwiseSymmetryConstraints([1,3,8],10,symmetry=-1,debug=True)"
   ]
  },
  {
   "cell_type": "code",
   "execution_count": 37,
   "metadata": {},
   "outputs": [
    {
     "name": "stdout",
     "output_type": "stream",
     "text": [
      "10 unknowns, 2 pairwise equality constraints\n",
      "symmetry list ((2,)):\n",
      "[ 1. -1.]\n",
      "D ((2, 10)):\n",
      "[[ 0.  1.  0. -1.  0.  0.  0.  0.  0.  0.]\n",
      " [ 0.  1.  0.  0.  0.  0.  0.  0.  1.  0.]]\n",
      "q ((2,)):\n",
      "[ 0.  0.]\n"
     ]
    }
   ],
   "source": [
    "D4,q4 = constructPairwiseSymmetryConstraints([1,3,8],10,symmetry=np.array([1,-1]),debug=True)"
   ]
  },
  {
   "cell_type": "code",
   "execution_count": 38,
   "metadata": {},
   "outputs": [
    {
     "name": "stdout",
     "output_type": "stream",
     "text": [
      "10 unknowns, 2 pairwise equality constraints\n",
      "symmetry list ((2,)):\n",
      "[ 1. -1.]\n",
      "D ((2, 10)):\n",
      "[[ 0.  1.  1. -1. -1. -1.  0.  0.  0.  0.]\n",
      " [ 0.  1.  1.  0.  0.  0.  0.  0.  1.  1.]]\n",
      "q ((2,)):\n",
      "[ 0.  0.]\n"
     ]
    }
   ],
   "source": [
    "D5,q5 = constructPairwiseSymmetryConstraints([[1,2],[3,4,5],[8,9]],10,symmetry=np.array([1,-1]),debug=True)"
   ]
  },
  {
   "cell_type": "markdown",
   "metadata": {},
   "source": [
    "### full example\n",
    "Water with antisymmetric hydrogens and +1 integer charge group of oxygen and 1 hydrogen"
   ]
  },
  {
   "cell_type": "code",
   "execution_count": 39,
   "metadata": {},
   "outputs": [
    {
     "name": "stdout",
     "output_type": "stream",
     "text": [
      "A: [[ 8.5387  8.5216  8.5216]\n",
      " [ 8.5216  9.0212  8.3956]\n",
      " [ 8.5216  8.3956  9.0212]]\n",
      "B: [-0.0105 -0.0797 -0.0797]\n",
      "C: 0.0266115260155\n",
      "N: 3\n"
     ]
    }
   ],
   "source": [
    "# Example: water\n",
    "import h5py\n",
    "#load the cost function\n",
    "cost_function = h5py.File('h2o.cost.h5')\n",
    "cost = cost_function['cost']\n",
    "A = cost['A'][:]\n",
    "B = cost['B'][:]\n",
    "C = cost['C'].value\n",
    "N = cost['natom'].value\n",
    "print(\"A: {}\".format(A))\n",
    "print(\"B: {}\".format(B))\n",
    "print(\"C: {}\".format(C))\n",
    "print(\"N: {}\".format(N))\n",
    "\n"
   ]
  },
  {
   "cell_type": "code",
   "execution_count": 40,
   "metadata": {},
   "outputs": [
    {
     "name": "stdout",
     "output_type": "stream",
     "text": [
      "3 unknowns, 1 pairwise equality constraints\n",
      "symmetry list ((1,)):\n",
      "[-1.]\n",
      "D ((1, 3)):\n",
      "[[ 0.  1.  1.]]\n",
      "q ((1,)):\n",
      "[ 0.]\n"
     ]
    }
   ],
   "source": [
    "D1,q1 = constructPairwiseSymmetryConstraints(\n",
    "    charges=[1,2],N=3,symmetry=-1,debug=True)"
   ]
  },
  {
   "cell_type": "code",
   "execution_count": 41,
   "metadata": {},
   "outputs": [
    {
     "data": {
      "text/plain": [
       "(array([[ 0.,  1.,  1.]]), array([ 0.]))"
      ]
     },
     "execution_count": 41,
     "metadata": {},
     "output_type": "execute_result"
    }
   ],
   "source": [
    "D1, q1"
   ]
  },
  {
   "cell_type": "code",
   "execution_count": 42,
   "metadata": {},
   "outputs": [
    {
     "name": "stdout",
     "output_type": "stream",
     "text": [
      "3 unknowns, 1 pairwise equality constraints\n",
      "D ((1, 3)):\n",
      "[[ 1.  1.  0.]]\n",
      "q ((1,)):\n",
      "[ 1.]\n"
     ]
    }
   ],
   "source": [
    "D2,q2 = constructChargegroupConstraints(\n",
    "    chargeGroups=[[0,1]],N=3,q=1,debug=True)"
   ]
  },
  {
   "cell_type": "code",
   "execution_count": 43,
   "metadata": {},
   "outputs": [
    {
     "data": {
      "text/plain": [
       "(array([[ 1.,  1.,  0.]]), array([ 1.]))"
      ]
     },
     "execution_count": 43,
     "metadata": {},
     "output_type": "execute_result"
    }
   ],
   "source": [
    "D2, q2"
   ]
  },
  {
   "cell_type": "code",
   "execution_count": 44,
   "metadata": {},
   "outputs": [],
   "source": [
    "D = np.vstack([D1,D2])"
   ]
  },
  {
   "cell_type": "code",
   "execution_count": 45,
   "metadata": {},
   "outputs": [
    {
     "data": {
      "text/plain": [
       "array([[ 0.,  1.,  1.],\n",
       "       [ 1.,  1.,  0.]])"
      ]
     },
     "execution_count": 45,
     "metadata": {},
     "output_type": "execute_result"
    }
   ],
   "source": [
    "D"
   ]
  },
  {
   "cell_type": "code",
   "execution_count": 46,
   "metadata": {},
   "outputs": [],
   "source": [
    "q = np.hstack([q1,q2])"
   ]
  },
  {
   "cell_type": "code",
   "execution_count": 47,
   "metadata": {},
   "outputs": [
    {
     "data": {
      "text/plain": [
       "array([ 0.,  1.])"
      ]
     },
     "execution_count": 47,
     "metadata": {},
     "output_type": "execute_result"
    }
   ],
   "source": [
    "q"
   ]
  },
  {
   "cell_type": "code",
   "execution_count": 48,
   "metadata": {},
   "outputs": [
    {
     "name": "stdout",
     "output_type": "stream",
     "text": [
      "3 unknowns, 2 equality constraints\n",
      "A (3, 3): \n",
      " [[ 8.5387  8.5216  8.5216]\n",
      " [ 8.5216  9.0212  8.3956]\n",
      " [ 8.5216  8.3956  9.0212]]\n",
      "B (3,): \n",
      " [-0.0105 -0.0797 -0.0797]\n",
      "C (): \n",
      " 0.0266115260155\n",
      "D (2, 3): \n",
      " [[ 0.  1.  1.]\n",
      " [ 1.  1.  0.]]\n",
      "q (2,): \n",
      " [ 0.  1.]\n",
      "upper A ((3, 5)): \n",
      " [[ 17.0774  17.0433  17.0433   0.       1.    ]\n",
      " [ 17.0433  18.0423  16.7912   1.       1.    ]\n",
      " [ 17.0433  16.7912  18.0423   1.       0.    ]]\n",
      "upper A ((2, 5)): \n",
      " [[ 0.  1.  1.  0.  0.]\n",
      " [ 1.  1.  0.  0.  0.]]\n",
      "block A ((5, 5)): \n",
      " [[ 17.0774  17.0433  17.0433   0.       1.    ]\n",
      " [ 17.0433  18.0423  16.7912   1.       1.    ]\n",
      " [ 17.0433  16.7912  18.0423   1.       0.    ]\n",
      " [  0.       1.       1.       0.       0.    ]\n",
      " [  1.       1.       0.       0.       0.    ]]\n",
      "block B ((5,)): \n",
      " [-0.021  -0.1594 -0.1594  0.      1.    ]\n"
     ]
    }
   ],
   "source": [
    "X = constrainedMinimize(A,B,C,D,q,debug=True)"
   ]
  },
  {
   "cell_type": "code",
   "execution_count": 49,
   "metadata": {},
   "outputs": [
    {
     "data": {
      "text/plain": [
       "array([ 0.1267,  0.8733, -0.8733, -1.2267, -2.1852])"
      ]
     },
     "execution_count": 49,
     "metadata": {},
     "output_type": "execute_result"
    }
   ],
   "source": [
    "X"
   ]
  },
  {
   "cell_type": "code",
   "execution_count": 50,
   "metadata": {},
   "outputs": [],
   "source": [
    "Q = X[:N]"
   ]
  },
  {
   "cell_type": "code",
   "execution_count": 51,
   "metadata": {},
   "outputs": [],
   "source": [
    "Lagrange = X[N:]"
   ]
  },
  {
   "cell_type": "code",
   "execution_count": 52,
   "metadata": {},
   "outputs": [
    {
     "data": {
      "text/plain": [
       "array([ 0.1267,  0.8733, -0.8733])"
      ]
     },
     "execution_count": 52,
     "metadata": {},
     "output_type": "execute_result"
    }
   ],
   "source": [
    "Q # all constraints fulfilled"
   ]
  },
  {
   "cell_type": "code",
   "execution_count": 53,
   "metadata": {},
   "outputs": [
    {
     "data": {
      "text/plain": [
       "1.0"
      ]
     },
     "execution_count": 53,
     "metadata": {},
     "output_type": "execute_result"
    }
   ],
   "source": [
    "Q[0]+Q[1]"
   ]
  },
  {
   "cell_type": "code",
   "execution_count": 54,
   "metadata": {},
   "outputs": [
    {
     "data": {
      "text/plain": [
       "1.1102230246251565e-16"
      ]
     },
     "execution_count": 54,
     "metadata": {},
     "output_type": "execute_result"
    }
   ],
   "source": [
    "Q[1]+Q[2]"
   ]
  },
  {
   "cell_type": "code",
   "execution_count": 55,
   "metadata": {},
   "outputs": [
    {
     "data": {
      "text/plain": [
       "array([-1.2267, -2.1852])"
      ]
     },
     "execution_count": 55,
     "metadata": {},
     "output_type": "execute_result"
    }
   ],
   "source": [
    "Lagrange"
   ]
  },
  {
   "cell_type": "code",
   "execution_count": null,
   "metadata": {},
   "outputs": [],
   "source": []
  },
  {
   "cell_type": "code",
   "execution_count": 63,
   "metadata": {},
   "outputs": [
    {
     "name": "stdout",
     "output_type": "stream",
     "text": [
      "3 unknowns, 1 pairwise equality constraints\n",
      "symmetry list ((1,)):\n",
      "[ 1.]\n",
      "D ((1, 3)):\n",
      "[[ 0.  1. -1.]]\n",
      "q ((1,)):\n",
      "[ 0.]\n"
     ]
    }
   ],
   "source": [
    "D3,q3 = constructPairwiseSymmetryConstraints(\n",
    "    charges=[1,2],N=3,symmetry=1,debug=True)"
   ]
  },
  {
   "cell_type": "code",
   "execution_count": 64,
   "metadata": {},
   "outputs": [
    {
     "name": "stdout",
     "output_type": "stream",
     "text": [
      "3 unknowns, 1 pairwise equality constraints\n",
      "symmetry list ((1,)):\n",
      "[-1.]\n",
      "D ((1, 3)):\n",
      "[[ 0.  1.  1.]]\n",
      "q ((1,)):\n",
      "[ 0.]\n"
     ]
    }
   ],
   "source": [
    "D4,q4 = constructPairwiseSymmetryConstraints(\n",
    "    charges=[1,2],N=3,symmetry=-1,debug=True)"
   ]
  },
  {
   "cell_type": "code",
   "execution_count": 78,
   "metadata": {},
   "outputs": [
    {
     "name": "stdout",
     "output_type": "stream",
     "text": [
      "3 unknowns, 2 pairwise equality constraints\n",
      "D ((2, 3)):\n",
      "[[ 1.  1.  1.]\n",
      " [ 1.  1.  1.]]\n",
      "q ((2,)):\n",
      "[ 0.  1.]\n"
     ]
    }
   ],
   "source": [
    "D5,q5 = constructChargegroupConstraints(chargeGroups=[[0,1,2],[0,1,2]],N=3,q=[0,1],debug=True)"
   ]
  },
  {
   "cell_type": "code",
   "execution_count": 79,
   "metadata": {},
   "outputs": [],
   "source": [
    "D = np.vstack([D3,D4,D5])"
   ]
  },
  {
   "cell_type": "code",
   "execution_count": 80,
   "metadata": {},
   "outputs": [
    {
     "data": {
      "text/plain": [
       "array([[ 0.,  1., -1.],\n",
       "       [ 0.,  1.,  1.],\n",
       "       [ 1.,  1.,  1.],\n",
       "       [ 1.,  1.,  1.]])"
      ]
     },
     "execution_count": 80,
     "metadata": {},
     "output_type": "execute_result"
    }
   ],
   "source": [
    "D"
   ]
  },
  {
   "cell_type": "code",
   "execution_count": 81,
   "metadata": {},
   "outputs": [],
   "source": [
    "q = np.hstack([q3,q4,q5])"
   ]
  },
  {
   "cell_type": "code",
   "execution_count": 82,
   "metadata": {},
   "outputs": [
    {
     "data": {
      "text/plain": [
       "array([ 0.,  0.,  0.,  1.])"
      ]
     },
     "execution_count": 82,
     "metadata": {},
     "output_type": "execute_result"
    }
   ],
   "source": [
    "q"
   ]
  },
  {
   "cell_type": "code",
   "execution_count": 83,
   "metadata": {},
   "outputs": [
    {
     "name": "stdout",
     "output_type": "stream",
     "text": [
      "3 unknowns, 4 equality constraints\n",
      "A (3, 3): \n",
      " [[ 8.5387  8.5216  8.5216]\n",
      " [ 8.5216  9.0212  8.3956]\n",
      " [ 8.5216  8.3956  9.0212]]\n",
      "B (3,): \n",
      " [-0.0105 -0.0797 -0.0797]\n",
      "C (): \n",
      " 0.0266115260155\n",
      "D (4, 3): \n",
      " [[ 0.  1. -1.]\n",
      " [ 0.  1.  1.]\n",
      " [ 1.  1.  1.]\n",
      " [ 1.  1.  1.]]\n",
      "q (4,): \n",
      " [ 0.  0.  0.  1.]\n",
      "upper A ((3, 7)): \n",
      " [[ 17.0774  17.0433  17.0433   0.       0.       1.       1.    ]\n",
      " [ 17.0433  18.0423  16.7912   1.       1.       1.       1.    ]\n",
      " [ 17.0433  16.7912  18.0423  -1.       1.       1.       1.    ]]\n",
      "upper A ((4, 7)): \n",
      " [[ 0.  1. -1.  0.  0.  0.  0.]\n",
      " [ 0.  1.  1.  0.  0.  0.  0.]\n",
      " [ 1.  1.  1.  0.  0.  0.  0.]\n",
      " [ 1.  1.  1.  0.  0.  0.  0.]]\n",
      "block A ((7, 7)): \n",
      " [[ 17.0774  17.0433  17.0433   0.       0.       1.       1.    ]\n",
      " [ 17.0433  18.0423  16.7912   1.       1.       1.       1.    ]\n",
      " [ 17.0433  16.7912  18.0423  -1.       1.       1.       1.    ]\n",
      " [  0.       1.      -1.       0.       0.       0.       0.    ]\n",
      " [  0.       1.       1.       0.       0.       0.       0.    ]\n",
      " [  1.       1.       1.       0.       0.       0.       0.    ]\n",
      " [  1.       1.       1.       0.       0.       0.       0.    ]]\n",
      "block B ((7,)): \n",
      " [-0.021  -0.1594 -0.1594  0.      0.      0.      1.    ]\n"
     ]
    }
   ],
   "source": [
    "X = constrainedMinimize(A,B,C,D,q,debug=True)"
   ]
  },
  {
   "cell_type": "code",
   "execution_count": 84,
   "metadata": {},
   "outputs": [
    {
     "data": {
      "text/plain": [
       "array([-0.004 ,  0.0258, -0.0218])"
      ]
     },
     "execution_count": 84,
     "metadata": {},
     "output_type": "execute_result"
    }
   ],
   "source": [
    "X[:N]"
   ]
  },
  {
   "cell_type": "code",
   "execution_count": 85,
   "metadata": {},
   "outputs": [
    {
     "data": {
      "text/plain": [
       "array([ -3.1395e-02,  -1.2500e-01,   1.4412e+17,  -1.4412e+17])"
      ]
     },
     "execution_count": 85,
     "metadata": {},
     "output_type": "execute_result"
    }
   ],
   "source": [
    "X[N:]"
   ]
  },
  {
   "cell_type": "code",
   "execution_count": 86,
   "metadata": {},
   "outputs": [
    {
     "name": "stdout",
     "output_type": "stream",
     "text": [
      "3 unknowns, 2 equality constraints\n",
      "A (3, 3): \n",
      " [[ 8.5387  8.5216  8.5216]\n",
      " [ 8.5216  9.0212  8.3956]\n",
      " [ 8.5216  8.3956  9.0212]]\n",
      "B (3,): \n",
      " [-0.0105 -0.0797 -0.0797]\n",
      "C (): \n",
      " 0.0266115260155\n",
      "D (2, 3): \n",
      " [[ 1.  1.  1.]\n",
      " [ 1.  1.  1.]]\n",
      "q (2,): \n",
      " [ 0.  1.]\n",
      "upper A ((3, 5)): \n",
      " [[ 17.0774  17.0433  17.0433   1.       1.    ]\n",
      " [ 17.0433  18.0423  16.7912   1.       1.    ]\n",
      " [ 17.0433  16.7912  18.0423   1.       1.    ]]\n",
      "upper A ((2, 5)): \n",
      " [[ 1.  1.  1.  0.  0.]\n",
      " [ 1.  1.  1.  0.  0.]]\n",
      "block A ((5, 5)): \n",
      " [[ 17.0774  17.0433  17.0433   1.       1.    ]\n",
      " [ 17.0433  18.0423  16.7912   1.       1.    ]\n",
      " [ 17.0433  16.7912  18.0423   1.       1.    ]\n",
      " [  1.       1.       1.       0.       0.    ]\n",
      " [  1.       1.       1.       0.       0.    ]]\n",
      "block B ((5,)): \n",
      " [-0.021  -0.1594 -0.1594  0.      1.    ]\n"
     ]
    }
   ],
   "source": [
    "X = constrainedMinimize(A,B,C,D5,q5,debug=True)"
   ]
  },
  {
   "cell_type": "code",
   "execution_count": 87,
   "metadata": {},
   "outputs": [
    {
     "data": {
      "text/plain": [
       "array([  3.5032e-01,  -1.6107e-01,  -1.8995e-01,   1.4412e+17,  -1.4412e+17])"
      ]
     },
     "execution_count": 87,
     "metadata": {},
     "output_type": "execute_result"
    }
   ],
   "source": [
    "X"
   ]
  },
  {
   "cell_type": "code",
   "execution_count": null,
   "metadata": {},
   "outputs": [],
   "source": []
  }
 ],
 "metadata": {
  "kernelspec": {
   "display_name": "Python 2",
   "language": "python",
   "name": "python2"
  },
  "language_info": {
   "codemirror_mode": {
    "name": "ipython",
    "version": 2
   },
   "file_extension": ".py",
   "mimetype": "text/x-python",
   "name": "python",
   "nbconvert_exporter": "python",
   "pygments_lexer": "ipython2",
   "version": "2.7.14"
  }
 },
 "nbformat": 4,
 "nbformat_minor": 2
}
